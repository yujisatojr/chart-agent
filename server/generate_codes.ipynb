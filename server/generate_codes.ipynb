{
 "cells": [
  {
   "cell_type": "code",
   "execution_count": 1,
   "id": "fe23c7f2-5bbf-44d0-b9dc-1ac409db191b",
   "metadata": {},
   "outputs": [
    {
     "data": {
      "text/html": [
       "<div>\n",
       "<style scoped>\n",
       "    .dataframe tbody tr th:only-of-type {\n",
       "        vertical-align: middle;\n",
       "    }\n",
       "\n",
       "    .dataframe tbody tr th {\n",
       "        vertical-align: top;\n",
       "    }\n",
       "\n",
       "    .dataframe thead th {\n",
       "        text-align: right;\n",
       "    }\n",
       "</style>\n",
       "<table border=\"1\" class=\"dataframe\">\n",
       "  <thead>\n",
       "    <tr style=\"text-align: right;\">\n",
       "      <th></th>\n",
       "      <th>imdb_id</th>\n",
       "      <th>title</th>\n",
       "      <th>date</th>\n",
       "      <th>genres</th>\n",
       "      <th>runtime</th>\n",
       "      <th>rating</th>\n",
       "      <th>votes</th>\n",
       "      <th>budget</th>\n",
       "      <th>revenue</th>\n",
       "      <th>language</th>\n",
       "      <th>production</th>\n",
       "    </tr>\n",
       "  </thead>\n",
       "  <tbody>\n",
       "    <tr>\n",
       "      <th>0</th>\n",
       "      <td>114709</td>\n",
       "      <td>Toy Story (1995)</td>\n",
       "      <td>1995-10-30T00:00:00Z</td>\n",
       "      <td>Animation</td>\n",
       "      <td>81</td>\n",
       "      <td>8.3</td>\n",
       "      <td>5415</td>\n",
       "      <td>30000000</td>\n",
       "      <td>373554033</td>\n",
       "      <td>English</td>\n",
       "      <td>Pixar Animation Studios</td>\n",
       "    </tr>\n",
       "    <tr>\n",
       "      <th>1</th>\n",
       "      <td>113497</td>\n",
       "      <td>Jumanji (1995)</td>\n",
       "      <td>1995-12-15T00:00:00Z</td>\n",
       "      <td>Action</td>\n",
       "      <td>104</td>\n",
       "      <td>6.9</td>\n",
       "      <td>2413</td>\n",
       "      <td>65000000</td>\n",
       "      <td>262797249</td>\n",
       "      <td>English</td>\n",
       "      <td>TriStar Pictures</td>\n",
       "    </tr>\n",
       "    <tr>\n",
       "      <th>2</th>\n",
       "      <td>113228</td>\n",
       "      <td>Grumpier Old Men (1995)</td>\n",
       "      <td>1995-12-22T00:00:00Z</td>\n",
       "      <td>Comedy</td>\n",
       "      <td>101</td>\n",
       "      <td>6.6</td>\n",
       "      <td>92</td>\n",
       "      <td>0</td>\n",
       "      <td>0</td>\n",
       "      <td>English</td>\n",
       "      <td>Warner Bros.</td>\n",
       "    </tr>\n",
       "    <tr>\n",
       "      <th>3</th>\n",
       "      <td>113041</td>\n",
       "      <td>Father of the Bride Part II (1995)</td>\n",
       "      <td>1995-02-10T00:00:00Z</td>\n",
       "      <td>Comedy</td>\n",
       "      <td>106</td>\n",
       "      <td>5.9</td>\n",
       "      <td>173</td>\n",
       "      <td>0</td>\n",
       "      <td>76578911</td>\n",
       "      <td>English</td>\n",
       "      <td>Sandollar Productions</td>\n",
       "    </tr>\n",
       "    <tr>\n",
       "      <th>4</th>\n",
       "      <td>113277</td>\n",
       "      <td>Heat (1995)</td>\n",
       "      <td>1995-12-15T00:00:00Z</td>\n",
       "      <td>Action</td>\n",
       "      <td>170</td>\n",
       "      <td>8.2</td>\n",
       "      <td>1886</td>\n",
       "      <td>60000000</td>\n",
       "      <td>187436818</td>\n",
       "      <td>English</td>\n",
       "      <td>Regency Enterprises</td>\n",
       "    </tr>\n",
       "  </tbody>\n",
       "</table>\n",
       "</div>"
      ],
      "text/plain": [
       "   imdb_id                               title                  date  \\\n",
       "0   114709                    Toy Story (1995)  1995-10-30T00:00:00Z   \n",
       "1   113497                      Jumanji (1995)  1995-12-15T00:00:00Z   \n",
       "2   113228             Grumpier Old Men (1995)  1995-12-22T00:00:00Z   \n",
       "3   113041  Father of the Bride Part II (1995)  1995-02-10T00:00:00Z   \n",
       "4   113277                         Heat (1995)  1995-12-15T00:00:00Z   \n",
       "\n",
       "      genres  runtime  rating  votes    budget    revenue language  \\\n",
       "0  Animation       81     8.3   5415  30000000  373554033  English   \n",
       "1     Action      104     6.9   2413  65000000  262797249  English   \n",
       "2     Comedy      101     6.6     92         0          0  English   \n",
       "3     Comedy      106     5.9    173         0   76578911  English   \n",
       "4     Action      170     8.2   1886  60000000  187436818  English   \n",
       "\n",
       "                production  \n",
       "0  Pixar Animation Studios  \n",
       "1         TriStar Pictures  \n",
       "2             Warner Bros.  \n",
       "3    Sandollar Productions  \n",
       "4      Regency Enterprises  "
      ]
     },
     "execution_count": 1,
     "metadata": {},
     "output_type": "execute_result"
    }
   ],
   "source": [
    "import pandas as pd\n",
    "\n",
    "# Read the CSV file into a DataFrame\n",
    "df = pd.read_csv(\"movies.csv\")\n",
    "\n",
    "# Drop the specified columns\n",
    "columns_to_drop = ['summary', 'poster_link', 'metadata']\n",
    "df.drop(columns=columns_to_drop, inplace=True)\n",
    "\n",
    "# Optionally, you can save the modified DataFrame to a new CSV file\n",
    "# df.to_csv(\"modified_movies.csv\", index=False)\n",
    "\n",
    "df.head()"
   ]
  },
  {
   "cell_type": "code",
   "execution_count": 2,
   "id": "dfcb7db5-cf30-45af-a7ab-c106bc200fcc",
   "metadata": {},
   "outputs": [],
   "source": [
    "df.to_csv(\"metadata.csv\", index=False)"
   ]
  },
  {
   "cell_type": "code",
   "execution_count": 3,
   "id": "42de109c-379e-4077-a016-41cdf5a5b4d6",
   "metadata": {},
   "outputs": [
    {
     "name": "stdout",
     "output_type": "stream",
     "text": [
      "8646\n"
     ]
    }
   ],
   "source": [
    "print(len(df))"
   ]
  },
  {
   "cell_type": "code",
   "execution_count": 16,
   "id": "83541c3c-208f-42e9-8955-0a16a18208d5",
   "metadata": {},
   "outputs": [],
   "source": [
    "from dotenv import load_dotenv, find_dotenv\n",
    "import json\n",
    "from openai import OpenAI\n",
    "import openai\n",
    "import os\n",
    "\n",
    "load_dotenv(find_dotenv())\n",
    "client = OpenAI(\n",
    "    api_key=os.getenv('OPENAI_API_KEY'),\n",
    ")\n",
    "\n",
    "def parse_user_query(user_query):\n",
    "\n",
    "    # tools = [{\"type\": \"PythonAstREPLTool\"}]\n",
    "    \n",
    "    prompt_template = f\"\"\"\n",
    "        Your task is to parse the following query '{user_query}' provided by a user and provide only the SQL output that can run on the pandas Dataframe tabled named 'df' and query movies that matches the criteria mentioned in the user query. Make sure to use 'FROM df' in the SQL query.\n",
    "        The explanation of each column in the pandas Dataframe is as follows:\n",
    "        \"title\": The title of a film in string format.\n",
    "        \"date\": The release date of the film formatted in ISO 8601 format.\n",
    "        \"genres\": The genre of the film in string format.\n",
    "        \"runtime\": The runtime of the movie in munutes in a whole number integer format.\n",
    "        \"votes\": The voting count of a film in a whole number integer format.\n",
    "        \"budget\": The dollar budget of a film in a whole number integer format.\n",
    "        \"revenue\": The dollar revenue of a film in a whole number integer format.\n",
    "        \"language\": The language of the film in string format.\n",
    "        \"production\": The production company of the film in string format.\n",
    "        The expected example output is the follwoing:\n",
    "        'SELECT * \n",
    "        FROM df\n",
    "        WHERE date >= '2008-01-01' AND genres LIKE '%Animation%';'\n",
    "    \"\"\"\n",
    "\n",
    "    messages = [{\n",
    "            \"role\": \"system\",\n",
    "            \"content\": \"Please generate output in SQL format exclusively, avoiding any additional text or explanations.\",\n",
    "        },\n",
    "        {\n",
    "            \"role\": \"user\",\n",
    "            \"content\": prompt_template\n",
    "        }\n",
    "    ]\n",
    "\n",
    "    stream = client.chat.completions.create(\n",
    "        # tools=tools,\n",
    "        model=\"gpt-3.5-turbo-0125\",\n",
    "        messages=messages,\n",
    "        max_tokens=500,\n",
    "        temperature=0.5,\n",
    "        frequency_penalty=0,\n",
    "        presence_penalty=0,\n",
    "        # response_format={ \"type\": \"json_object\" }\n",
    "    )\n",
    "    # return json.loads(stream.choices[0].message.content)\n",
    "    return stream.choices[0].message.content\n"
   ]
  },
  {
   "cell_type": "code",
   "execution_count": 17,
   "id": "49b6d9c8-1ded-4614-ab31-fe237ca57a4d",
   "metadata": {},
   "outputs": [
    {
     "name": "stdout",
     "output_type": "stream",
     "text": [
      "SELECT * \n",
      "FROM df\n",
      "WHERE date >= '2008-01-01' AND genres LIKE '%Animation%';\n"
     ]
    }
   ],
   "source": [
    "response = parse_user_query('2008年以降に作られたアニメーション映画')\n",
    "print(response)"
   ]
  },
  {
   "cell_type": "code",
   "execution_count": 15,
   "id": "7e158415-adcd-41d8-b5e1-0759fbf64229",
   "metadata": {},
   "outputs": [
    {
     "name": "stdout",
     "output_type": "stream",
     "text": [
      "     imdb_id                                            title  \\\n",
      "0     451079                       Horton Hears a Who! (2008)   \n",
      "1     902272          Justice League: The New Frontier (2008)   \n",
      "2     441773                             Kung Fu Panda (2008)   \n",
      "3     910970                                   WALLåáE (2008)   \n",
      "4    1054485  Futurama: The Beast with a Billion Backs (2008)   \n",
      "..       ...                                              ...   \n",
      "281  5311514                             Kimi no na wa (2016)   \n",
      "282  4624424                                    Storks (2016)   \n",
      "283  2321405                     My Life as a Zucchini (2016)   \n",
      "284  3682556                               The Present (2014)   \n",
      "285  1679335                                    Trolls (2016)   \n",
      "\n",
      "                     date     genres  runtime  rating  votes     budget  \\\n",
      "0    2008-03-03T00:00:00Z  Animation       88     6.9    927   85000000   \n",
      "1    2008-02-26T00:00:00Z  Animation       75     7.0    115    3500000   \n",
      "2    2008-06-04T00:00:00Z  Animation       90     7.6   3231  130000000   \n",
      "3    2008-06-22T00:00:00Z  Animation       98     8.4   6439  180000000   \n",
      "4    2008-06-24T00:00:00Z  Animation       90     7.3    156          0   \n",
      "..                    ...        ...      ...     ...    ...        ...   \n",
      "281  2016-08-26T00:00:00Z  Animation      106     8.6   1030          0   \n",
      "282  2016-09-22T00:00:00Z  Animation       87     6.9    706   70000000   \n",
      "283  2016-10-12T00:00:00Z  Animation       66     7.9    215    8000000   \n",
      "284  2014-04-22T00:00:00Z  Animation        4     7.6     52          0   \n",
      "285  2016-10-13T00:00:00Z  Animation       92     6.5   1054  125000000   \n",
      "\n",
      "       revenue  language                              production  \n",
      "0    297138014   English  Twentieth Century Fox Film Corporation  \n",
      "1      5231128   English              Warner Bros. Entertainment  \n",
      "2    631744560   English                    DreamWorks Animation  \n",
      "3    521311860   English                    Walt Disney Pictures  \n",
      "4            0   English             20th Century Fox Television  \n",
      "..         ...       ...                                     ...  \n",
      "281  355298270  Japanese                        CoMix Wave Films  \n",
      "282  182379278   English                  Warner Bros. Animation  \n",
      "283     292279    French                            Gébéka Films  \n",
      "284          0   English                                    None  \n",
      "285  346864462   English  Twentieth Century Fox Film Corporation  \n",
      "\n",
      "[286 rows x 11 columns]\n"
     ]
    }
   ],
   "source": [
    "from pandasql import sqldf\n",
    "result = sqldf(response)\n",
    "print(result)"
   ]
  },
  {
   "cell_type": "code",
   "execution_count": 18,
   "id": "e271b448-137b-41a1-97a3-15553d9f06b2",
   "metadata": {},
   "outputs": [
    {
     "name": "stdout",
     "output_type": "stream",
     "text": [
      "[{'imdb_id': 451079, 'title': 'Horton Hears a Who! (2008)', 'date': '2008-03-03T00:00:00Z', 'genres': 'Animation', 'runtime': 88, 'rating': 6.9, 'votes': 927, 'budget': 85000000, 'revenue': 297138014, 'language': 'English', 'production': 'Twentieth Century Fox Film Corporation'}, {'imdb_id': 902272, 'title': 'Justice League: The New Frontier (2008)', 'date': '2008-02-26T00:00:00Z', 'genres': 'Animation', 'runtime': 75, 'rating': 7.0, 'votes': 115, 'budget': 3500000, 'revenue': 5231128, 'language': 'English', 'production': 'Warner Bros. Entertainment'}, {'imdb_id': 441773, 'title': 'Kung Fu Panda (2008)', 'date': '2008-06-04T00:00:00Z', 'genres': 'Animation', 'runtime': 90, 'rating': 7.6, 'votes': 3231, 'budget': 130000000, 'revenue': 631744560, 'language': 'English', 'production': 'DreamWorks Animation'}, {'imdb_id': 910970, 'title': 'WALLåáE (2008)', 'date': '2008-06-22T00:00:00Z', 'genres': 'Animation', 'runtime': 98, 'rating': 8.4, 'votes': 6439, 'budget': 180000000, 'revenue': 521311860, 'language': 'English', 'production': 'Walt Disney Pictures'}, {'imdb_id': 1054485, 'title': 'Futurama: The Beast with a Billion Backs (2008)', 'date': '2008-06-24T00:00:00Z', 'genres': 'Animation', 'runtime': 90, 'rating': 7.3, 'votes': 156, 'budget': 0, 'revenue': 0, 'language': 'English', 'production': '20th Century Fox Television'}, {'imdb_id': 482603, 'title': 'Space Chimps (2008)', 'date': '2008-07-17T00:00:00Z', 'genres': 'Animation', 'runtime': 81, 'rating': 4.5, 'votes': 102, 'budget': 37000000, 'revenue': 63800345, 'language': 'English', 'production': 'Starz Media'}, {'imdb_id': 1117563, 'title': 'Batman: Gotham Knight (2008)', 'date': '2008-07-03T00:00:00Z', 'genres': 'Animation', 'runtime': 75, 'rating': 6.8, 'votes': 171, 'budget': 3500000, 'revenue': 0, 'language': 'English', 'production': 'DC Comics'}, {'imdb_id': 1185834, 'title': 'Star Wars: The Clone Wars (2008)', 'date': '2008-08-05T00:00:00Z', 'genres': 'Animation', 'runtime': 98, 'rating': 5.9, 'votes': 434, 'budget': 8500000, 'revenue': 68282844, 'language': 'English', 'production': 'Lucasfilm'}, {'imdb_id': 1054486, 'title': \"Futurama: Bender's Game (2008)\", 'date': '2008-11-03T00:00:00Z', 'genres': 'Animation', 'runtime': 88, 'rating': 7.3, 'votes': 152, 'budget': 0, 'revenue': 0, 'language': 'English', 'production': '20th Century Fox Television'}, {'imdb_id': 479952, 'title': 'Madagascar: Escape 2 Africa (2008)', 'date': '2008-10-30T00:00:00Z', 'genres': 'Animation', 'runtime': 89, 'rating': 6.7, 'votes': 1866, 'budget': 150000000, 'revenue': 603900354, 'language': 'English', 'production': 'DreamWorks Animation'}, {'imdb_id': 397892, 'title': 'Bolt (2008)', 'date': '2008-11-21T00:00:00Z', 'genres': 'Animation', 'runtime': 98, 'rating': 6.9, 'votes': 1798, 'budget': 150000000, 'revenue': 309979994, 'language': 'English', 'production': 'Walt Disney Animation Studios'}, {'imdb_id': 465502, 'title': 'Igor (2008)', 'date': '2008-09-19T00:00:00Z', 'genres': 'Animation', 'runtime': 87, 'rating': 6.0, 'votes': 154, 'budget': 25000000, 'revenue': 30000000, 'language': 'English', 'production': 'Exodus Film Group'}, {'imdb_id': 1118511, 'title': 'A Matter of Loaf and Death (2008)', 'date': '2008-12-03T00:00:00Z', 'genres': 'Animation', 'runtime': 30, 'rating': 7.6, 'votes': 120, 'budget': 0, 'revenue': 0, 'language': 'English', 'production': 'Aardman Animations'}, {'imdb_id': 876563, 'title': 'Ponyo (2008)', 'date': '2008-07-19T00:00:00Z', 'genres': 'Animation', 'runtime': 100, 'rating': 7.7, 'votes': 953, 'budget': 41677699, 'revenue': 187479518, 'language': 'Japanese', 'production': 'Studio Ghibli'}, {'imdb_id': 1107365, 'title': 'Open Season 2 (2008)', 'date': '2008-09-24T00:00:00Z', 'genres': 'Animation', 'runtime': 76, 'rating': 5.6, 'votes': 334, 'budget': 0, 'revenue': 0, 'language': 'English', 'production': 'Sony Pictures Animation'}, {'imdb_id': 420238, 'title': 'The Tale of Despereaux (2008)', 'date': '2008-12-19T00:00:00Z', 'genres': 'Animation', 'runtime': 93, 'rating': 6.1, 'votes': 260, 'budget': 60000000, 'revenue': 50877145, 'language': 'English', 'production': 'Larger Than Life Productions'}, {'imdb_id': 327597, 'title': 'Coraline (2009)', 'date': '2009-02-05T00:00:00Z', 'genres': 'Animation', 'runtime': 100, 'rating': 7.7, 'votes': 1432, 'budget': 60000000, 'revenue': 124596398, 'language': 'English', 'production': 'Focus Features'}, {'imdb_id': 1054487, 'title': 'Futurama: Into the Wild Green Yonder (2009)', 'date': '2009-02-23T00:00:00Z', 'genres': 'Animation', 'runtime': 90, 'rating': 7.3, 'votes': 134, 'budget': 0, 'revenue': 0, 'language': 'English', 'production': '20th Century Fox Television'}, {'imdb_id': 1287845, 'title': 'Kung Fu Panda: Secrets of the Furious Five (2008)', 'date': '2008-11-08T00:00:00Z', 'genres': 'Animation', 'runtime': 25, 'rating': 7.2, 'votes': 80, 'budget': 0, 'revenue': 0, 'language': 'English', 'production': 'DreamWorks Animation'}, {'imdb_id': 892782, 'title': 'Monsters vs. Aliens (2009)', 'date': '2009-03-19T00:00:00Z', 'genres': 'Animation', 'runtime': 94, 'rating': 6.5, 'votes': 1464, 'budget': 175000000, 'revenue': 381509870, 'language': 'English', 'production': 'DreamWorks Animation'}, {'imdb_id': 1049413, 'title': 'Up (2009)', 'date': '2009-05-13T00:00:00Z', 'genres': 'Animation', 'runtime': 96, 'rating': 8.3, 'votes': 7048, 'budget': 175000000, 'revenue': 735099082, 'language': 'English', 'production': 'Pixar Animation Studios'}, {'imdb_id': 1080016, 'title': 'Ice Age: Dawn of the Dinosaurs (2009)', 'date': '2009-06-29T00:00:00Z', 'genres': 'Animation', 'runtime': 94, 'rating': 7.0, 'votes': 2330, 'budget': 90000000, 'revenue': 886686817, 'language': 'English', 'production': 'Blue Sky Studios'}, {'imdb_id': 775552, 'title': 'Aliens in the Attic (2009)', 'date': '2009-07-31T00:00:00Z', 'genres': 'Animation', 'runtime': 86, 'rating': 5.4, 'votes': 254, 'budget': 45000000, 'revenue': 57881056, 'language': 'English', 'production': 'Twentieth Century Fox Film Corporation'}, {'imdb_id': 436339, 'title': 'G-Force (2009)', 'date': '2009-07-21T00:00:00Z', 'genres': 'Animation', 'runtime': 88, 'rating': 5.1, 'votes': 519, 'budget': 150000000, 'revenue': 292817841, 'language': 'English', 'production': 'Walt Disney Pictures'}, {'imdb_id': 472033, 'title': '9 (2009)', 'date': '2009-08-19T00:00:00Z', 'genres': 'Animation', 'runtime': 79, 'rating': 7.1, 'votes': 1291, 'budget': 30000000, 'revenue': 48428063, 'language': 'English', 'production': 'Focus Films'}, {'imdb_id': 1384590, 'title': 'Green Lantern: First Flight (2009)', 'date': '2009-07-28T00:00:00Z', 'genres': 'Animation', 'runtime': 75, 'rating': 7.2, 'votes': 102, 'budget': 3500000, 'revenue': 0, 'language': 'English', 'production': 'DC Comics'}, {'imdb_id': 844471, 'title': 'Cloudy with a Chance of Meatballs (2009)', 'date': '2009-09-17T00:00:00Z', 'genres': 'Animation', 'runtime': 90, 'rating': 7.0, 'votes': 1799, 'budget': 100000000, 'revenue': 242988466, 'language': 'English', 'production': 'Columbia Pictures'}, {'imdb_id': 985058, 'title': 'Metropia (2009)', 'date': '2009-10-21T00:00:00Z', 'genres': 'Animation', 'runtime': 86, 'rating': 6.3, 'votes': 53, 'budget': 5060730, 'revenue': 0, 'language': 'English', 'production': 'Atmo Media Network'}, {'imdb_id': 978762, 'title': 'Mary and Max (2009)', 'date': '2009-02-09T00:00:00Z', 'genres': 'Animation', 'runtime': 92, 'rating': 8.2, 'votes': 596, 'budget': 590235, 'revenue': 1725381, 'language': 'English', 'production': 'icon'}, {'imdb_id': 1482967, 'title': 'Monsters vs Aliens: Mutant Pumpkins from Outer Space (2009)', 'date': '2009-10-28T00:00:00Z', 'genres': 'Animation', 'runtime': 27, 'rating': 6.5, 'votes': 78, 'budget': 0, 'revenue': 0, 'language': 'English', 'production': 'DreamWorks Animation'}, {'imdb_id': 375568, 'title': 'Astro Boy (2009)', 'date': '2009-10-15T00:00:00Z', 'genres': 'Animation', 'runtime': 94, 'rating': 6.3, 'votes': 420, 'budget': 65000000, 'revenue': 44091067, 'language': 'English', 'production': 'The Weinstein Company'}, {'imdb_id': 432283, 'title': 'Fantastic Mr. Fox (2009)', 'date': '2009-10-23T00:00:00Z', 'genres': 'Animation', 'runtime': 87, 'rating': 7.8, 'votes': 1206, 'budget': 40000000, 'revenue': 46471023, 'language': 'English', 'production': 'Twentieth Century Fox Film Corporation'}, {'imdb_id': 1067106, 'title': 'A Christmas Carol (2009)', 'date': '2009-11-04T00:00:00Z', 'genres': 'Animation', 'runtime': 96, 'rating': 6.8, 'votes': 1137, 'budget': 200000000, 'revenue': 325233863, 'language': 'English', 'production': 'Walt Disney Pictures'}, {'imdb_id': 1425244, 'title': 'Partly Cloudy (2009)', 'date': '2009-05-28T00:00:00Z', 'genres': 'Animation', 'runtime': 5, 'rating': 8.2, 'votes': 335, 'budget': 0, 'revenue': 0, 'language': 'English', 'production': 'Pixar Animation Studios'}, {'imdb_id': 1526300, 'title': 'Merry Madagascar (2009)', 'date': '2009-11-16T00:00:00Z', 'genres': 'Animation', 'runtime': 30, 'rating': 6.8, 'votes': 57, 'budget': 0, 'revenue': 0, 'language': 'English', 'production': 'DreamWorks Animation'}, {'imdb_id': 762125, 'title': 'Planet 51 (2009)', 'date': '2009-11-19T00:00:00Z', 'genres': 'Animation', 'runtime': 91, 'rating': 6.1, 'votes': 573, 'budget': 70000000, 'revenue': 104945765, 'language': 'English', 'production': 'TriStar Pictures'}, {'imdb_id': 780521, 'title': 'The Princess and the Frog (2009)', 'date': '2009-12-08T00:00:00Z', 'genres': 'Animation', 'runtime': 97, 'rating': 7.1, 'votes': 1293, 'budget': 105000000, 'revenue': 267045765, 'language': 'English', 'production': 'Walt Disney Pictures'}, {'imdb_id': 1231580, 'title': 'Alvin and the Chipmunks: The Squeakquel (2009)', 'date': '2009-12-21T00:00:00Z', 'genres': 'Animation', 'runtime': 88, 'rating': 4.5, 'votes': 688, 'budget': 75000000, 'revenue': 443140005, 'language': 'English', 'production': 'Regency Enterprises'}, {'imdb_id': 944834, 'title': 'Chasseurs de dragons (2008)', 'date': '2008-03-19T00:00:00Z', 'genres': 'Animation', 'runtime': 80, 'rating': 6.6, 'votes': 131, 'budget': 15000000, 'revenue': 0, 'language': 'French', 'production': 'Futurikon'}, {'imdb_id': 485601, 'title': 'The Secret of Kells (2009)', 'date': '2009-02-09T00:00:00Z', 'genres': 'Animation', 'runtime': 75, 'rating': 7.7, 'votes': 184, 'budget': 0, 'revenue': 0, 'language': 'English', 'production': 'Gébéka Films'}, {'imdb_id': 1433540, 'title': 'Panique au village (2009)', 'date': '2009-06-17T00:00:00Z', 'genres': 'Animation', 'runtime': 75, 'rating': 7.5, 'votes': 52, 'budget': 0, 'revenue': 0, 'language': 'French', 'production': 'La Parti Production'}, {'imdb_id': 892769, 'title': 'How to Train Your Dragon (2010)', 'date': '2010-03-05T00:00:00Z', 'genres': 'Animation', 'runtime': 98, 'rating': 8.2, 'votes': 4319, 'budget': 165000000, 'revenue': 494878759, 'language': 'English', 'production': 'DreamWorks Animation'}, {'imdb_id': 435761, 'title': 'Toy Story 3 (2010)', 'date': '2010-06-16T00:00:00Z', 'genres': 'Animation', 'runtime': 103, 'rating': 8.3, 'votes': 4710, 'budget': 200000000, 'revenue': 1066969703, 'language': 'English', 'production': 'Walt Disney Pictures'}, {'imdb_id': 892791, 'title': 'Shrek Forever After (2010)', 'date': '2010-05-16T00:00:00Z', 'genres': 'Animation', 'runtime': 93, 'rating': 6.3, 'votes': 2021, 'budget': 165000000, 'revenue': 752600867, 'language': 'English', 'production': 'DreamWorks Animation'}, {'imdb_id': 1308667, 'title': 'Imaginationland: The Movie (2008)', 'date': '2008-03-11T00:00:00Z', 'genres': 'Animation', 'runtime': 67, 'rating': 8.6, 'votes': 75, 'budget': 0, 'revenue': 0, 'language': 'English', 'production': None}, {'imdb_id': 1323594, 'title': 'Despicable Me (2010)', 'date': '2010-07-08T00:00:00Z', 'genres': 'Animation', 'runtime': 95, 'rating': 7.7, 'votes': 6595, 'budget': 69000000, 'revenue': 543513985, 'language': 'English', 'production': 'Universal Pictures'}, {'imdb_id': 1569923, 'title': 'Batman: Under the Red Hood (2010)', 'date': '2010-07-27T00:00:00Z', 'genres': 'Animation', 'runtime': 75, 'rating': 8.1, 'votes': 459, 'budget': 0, 'revenue': 6629178, 'language': 'English', 'production': 'DC Comics'}, {'imdb_id': 1673430, 'title': 'Superman/Batman: Apocalypse (2010)', 'date': '2010-09-28T00:00:00Z', 'genres': 'Animation', 'runtime': 78, 'rating': 7.2, 'votes': 171, 'budget': 3500000, 'revenue': 0, 'language': 'English', 'production': 'DC Comics'}, {'imdb_id': 1219342, 'title': \"Legend of the Guardians: The Owls of Ga'Hoole (2010)\", 'date': '2010-07-10T00:00:00Z', 'genres': 'Animation', 'runtime': 97, 'rating': 7.0, 'votes': 715, 'budget': 80000000, 'revenue': 140073390, 'language': 'English', 'production': 'Village Roadshow Pictures'}, {'imdb_id': 1727587, 'title': 'Sintel (2010)', 'date': '2010-09-30T00:00:00Z', 'genres': 'Animation', 'runtime': 14, 'rating': 7.6, 'votes': 71, 'budget': 550000, 'revenue': 0, 'language': 'English', 'production': 'Blender Foundation'}, {'imdb_id': 1254207, 'title': 'Big Buck Bunny (2008)', 'date': '2008-04-10T00:00:00Z', 'genres': 'Animation', 'runtime': 8, 'rating': 6.6, 'votes': 58, 'budget': 150000, 'revenue': 0, 'language': 'English', 'production': 'Blender Foundation'}, {'imdb_id': 775489, 'title': \"L'illusionniste (2010)\", 'date': '2010-02-16T00:00:00Z', 'genres': 'Animation', 'runtime': 80, 'rating': 7.5, 'votes': 177, 'budget': 18000000, 'revenue': 5602431, 'language': 'French', 'production': 'Sony Pictures Classics'}, {'imdb_id': 1001526, 'title': 'Megamind (2010)', 'date': '2010-10-28T00:00:00Z', 'genres': 'Animation', 'runtime': 95, 'rating': 7.3, 'votes': 1968, 'budget': 130000000, 'revenue': 321887208, 'language': 'English', 'production': 'DreamWorks Animation'}, {'imdb_id': 1230204, 'title': \"Sammy's avonturen: De geheime doorgang (2010)\", 'date': '2010-08-03T00:00:00Z', 'genres': 'Animation', 'runtime': 88, 'rating': 6.1, 'votes': 153, 'budget': 0, 'revenue': 0, 'language': 'English', 'production': 'Motion Investment Group'}, {'imdb_id': 1725156, 'title': 'Scared Shrekless (2010)', 'date': '2010-10-28T00:00:00Z', 'genres': 'Animation', 'runtime': 21, 'rating': 6.8, 'votes': 80, 'budget': 0, 'revenue': 0, 'language': 'English', 'production': 'DreamWorks Animation'}, {'imdb_id': 398286, 'title': 'Tangled (2010)', 'date': '2010-11-24T00:00:00Z', 'genres': 'Animation', 'runtime': 100, 'rating': 7.8, 'votes': 3419, 'budget': 260000000, 'revenue': 591794936, 'language': 'English', 'production': 'Walt Disney Pictures'}, {'imdb_id': 1568921, 'title': 'The Secret World of Arrietty (2010)', 'date': '2010-07-16T00:00:00Z', 'genres': 'Animation', 'runtime': 94, 'rating': 7.6, 'votes': 701, 'budget': 37000000, 'revenue': 145570827, 'language': 'Japanese', 'production': 'Studio Ghibli'}, {'imdb_id': 1302067, 'title': 'Yogi Bear (2010)', 'date': '2010-12-11T00:00:00Z', 'genres': 'Animation', 'runtime': 80, 'rating': 4.6, 'votes': 228, 'budget': 80000000, 'revenue': 201584141, 'language': 'English', 'production': 'De Line Pictures'}, {'imdb_id': 1620446, 'title': 'Day & Night (2010)', 'date': '2010-06-17T00:00:00Z', 'genres': 'Animation', 'runtime': 6, 'rating': 8.1, 'votes': 272, 'budget': 0, 'revenue': 0, 'language': 'English', 'production': 'Walt Disney Pictures'}, {'imdb_id': 860906, 'title': 'Evangerion shin gekijÌ«ban: Ha (2009)', 'date': '2009-06-26T00:00:00Z', 'genres': 'Animation', 'runtime': 108, 'rating': 8.1, 'votes': 129, 'budget': 0, 'revenue': 41162041, 'language': 'Japanese', 'production': 'Studio Khara'}, {'imdb_id': 1699114, 'title': 'All-Star Superman (2011)', 'date': '2011-02-22T00:00:00Z', 'genres': 'Animation', 'runtime': 76, 'rating': 7.0, 'votes': 121, 'budget': 3500000, 'revenue': 0, 'language': 'English', 'production': 'DC Comics'}, {'imdb_id': 377981, 'title': 'Gnomeo & Juliet (2011)', 'date': '2011-01-13T00:00:00Z', 'genres': 'Animation', 'runtime': 84, 'rating': 6.0, 'votes': 547, 'budget': 36000000, 'revenue': 189712432, 'language': 'English', 'production': 'Starz Animation'}, {'imdb_id': 1192628, 'title': 'Rango (2011)', 'date': '2011-03-02T00:00:00Z', 'genres': 'Animation', 'runtime': 107, 'rating': 7.2, 'votes': 2094, 'budget': 135000000, 'revenue': 245724603, 'language': 'English', 'production': 'Paramount Pictures'}, {'imdb_id': 1474276, 'title': 'Summer Wars (2009)', 'date': '2009-08-01T00:00:00Z', 'genres': 'Animation', 'runtime': 114, 'rating': 7.6, 'votes': 265, 'budget': 0, 'revenue': 80768, 'language': 'Japanese', 'production': 'Madhouse'}, {'imdb_id': 1305591, 'title': 'Mars Needs Moms (2011)', 'date': '2011-03-09T00:00:00Z', 'genres': 'Animation', 'runtime': 88, 'rating': 5.4, 'votes': 202, 'budget': 150000000, 'revenue': 38992758, 'language': 'English', 'production': 'Walt Disney Animation Studios'}, {'imdb_id': 1361566, 'title': 'The House of Small Cubes (2008)', 'date': '2008-07-08T00:00:00Z', 'genres': 'Animation', 'runtime': 12, 'rating': 8.3, 'votes': 90, 'budget': 0, 'revenue': 0, 'language': 'Japanese', 'production': 'Robot Communications'}, {'imdb_id': 1334585, 'title': 'Burn-E (2008)', 'date': '2008-11-17T00:00:00Z', 'genres': 'Animation', 'runtime': 8, 'rating': 7.8, 'votes': 250, 'budget': 0, 'revenue': 0, 'language': 'English', 'production': 'Pixar Animation Studios'}, {'imdb_id': 1267379, 'title': 'Dead Space: Downfall (2008)', 'date': '2008-10-27T00:00:00Z', 'genres': 'Animation', 'runtime': 74, 'rating': 6.3, 'votes': 87, 'budget': 0, 'revenue': 0, 'language': 'English', 'production': 'Film Roman Productions'}, {'imdb_id': 1411704, 'title': 'Hop (2011)', 'date': '2011-03-30T00:00:00Z', 'genres': 'Animation', 'runtime': 95, 'rating': 5.5, 'votes': 338, 'budget': 63000000, 'revenue': 183953723, 'language': 'English', 'production': 'Universal Pictures'}, {'imdb_id': 1436562, 'title': 'Rio (2011)', 'date': '2011-04-03T00:00:00Z', 'genres': 'Animation', 'runtime': 96, 'rating': 6.9, 'votes': 2213, 'budget': 90000000, 'revenue': 484635760, 'language': 'English', 'production': 'Blue Sky Studios'}, {'imdb_id': 1646926, 'title': 'Open Season 3 (2010)', 'date': '2010-01-25T00:00:00Z', 'genres': 'Animation', 'runtime': 75, 'rating': 5.2, 'votes': 113, 'budget': 0, 'revenue': 0, 'language': 'English', 'production': 'Sony Pictures Animation'}, {'imdb_id': 1302011, 'title': 'Kung Fu Panda 2 (2011)', 'date': '2011-05-25T00:00:00Z', 'genres': 'Animation', 'runtime': 91, 'rating': 7.3, 'votes': 1925, 'budget': 150000000, 'revenue': 665692281, 'language': 'English', 'production': 'DreamWorks Animation'}, {'imdb_id': 1216475, 'title': 'Cars 2 (2011)', 'date': '2011-06-11T00:00:00Z', 'genres': 'Animation', 'runtime': 106, 'rating': 6.3, 'votes': 2088, 'budget': 200000000, 'revenue': 559852396, 'language': 'English', 'production': 'Walt Disney Pictures'}, {'imdb_id': 1449283, 'title': 'Winnie the Pooh (2011)', 'date': '2011-04-13T00:00:00Z', 'genres': 'Animation', 'runtime': 63, 'rating': 7.2, 'votes': 263, 'budget': 30000000, 'revenue': 14460000, 'language': 'English', 'production': 'Walt Disney Pictures'}, {'imdb_id': 472181, 'title': 'The Smurfs (2011)', 'date': '2011-07-29T00:00:00Z', 'genres': 'Animation', 'runtime': 103, 'rating': 5.5, 'votes': 1201, 'budget': 110000000, 'revenue': 563749323, 'language': 'English', 'production': 'Columbia Pictures'}, {'imdb_id': 1213012, 'title': 'Alpha and Omega (2010)', 'date': '2010-09-17T00:00:00Z', 'genres': 'Animation', 'runtime': 88, 'rating': 5.3, 'votes': 125, 'budget': 20000000, 'revenue': 39300000, 'language': 'English', 'production': 'Lions Gate Family Entertainment'}, {'imdb_id': 1825918, 'title': 'Phineas and Ferb the Movie: Across the 2nd Dimension (2011)', 'date': '2011-08-05T00:00:00Z', 'genres': 'Animation', 'runtime': 78, 'rating': 7.5, 'votes': 107, 'budget': 0, 'revenue': 0, 'language': 'English', 'production': 'Walt Disney Pictures'}, {'imdb_id': 1672723, 'title': 'Batman: Year One (2011)', 'date': '2011-09-27T00:00:00Z', 'genres': 'Animation', 'runtime': 64, 'rating': 7.4, 'votes': 255, 'budget': 0, 'revenue': 0, 'language': 'English', 'production': 'DC Comics'}, {'imdb_id': 983193, 'title': 'The Adventures of Tintin (2011)', 'date': '2011-10-25T00:00:00Z', 'genres': 'Animation', 'runtime': 107, 'rating': 7.4, 'votes': 2095, 'budget': 130000000, 'revenue': 371940071, 'language': 'English', 'production': 'Paramount Pictures'}, {'imdb_id': 1461418, 'title': 'The Gruffalo (2009)', 'date': '2009-12-25T00:00:00Z', 'genres': 'Animation', 'runtime': 27, 'rating': 7.5, 'votes': 53, 'budget': 0, 'revenue': 0, 'language': 'English', 'production': 'Magic Light Pictures'}, {'imdb_id': 1402488, 'title': 'Happy Feet Two (2011)', 'date': '2011-11-17T00:00:00Z', 'genres': 'Animation', 'runtime': 100, 'rating': 5.9, 'votes': 381, 'budget': 130000000, 'revenue': 150406466, 'language': 'English', 'production': 'Village Roadshow Pictures'}, {'imdb_id': 1430607, 'title': 'Arthur Christmas (2011)', 'date': '2011-02-22T00:00:00Z', 'genres': 'Animation', 'runtime': 97, 'rating': 7.1, 'votes': 340, 'budget': 0, 'revenue': 0, 'language': 'English', 'production': 'Columbia Pictures'}, {'imdb_id': 1615918, 'title': 'Alvin and the Chipmunks: Chipwrecked (2011)', 'date': '2011-12-14T00:00:00Z', 'genres': 'Animation', 'runtime': 87, 'rating': 4.4, 'votes': 499, 'budget': 75000000, 'revenue': 342695435, 'language': 'English', 'production': 'Fox 2000 Pictures'}, {'imdb_id': 1702433, 'title': 'Kung Fu Panda Holiday (2010)', 'date': '2010-11-26T00:00:00Z', 'genres': 'Animation', 'runtime': 21, 'rating': 6.9, 'votes': 53, 'budget': 0, 'revenue': 0, 'language': 'English', 'production': 'DreamWorks Animation'}, {'imdb_id': 1572781, 'title': 'Suzumiya Haruhi no shÌ«shitsu (2010)', 'date': '2010-02-05T00:00:00Z', 'genres': 'Animation', 'runtime': 162, 'rating': 8.1, 'votes': 51, 'budget': 0, 'revenue': 0, 'language': 'Japanese', 'production': 'Kyoto Animation'}, {'imdb_id': 961097, 'title': 'A Monster in Paris (2011)', 'date': '2011-10-12T00:00:00Z', 'genres': 'Animation', 'runtime': 90, 'rating': 6.8, 'votes': 323, 'budget': 25000000, 'revenue': 0, 'language': 'French', 'production': 'Europa Corp'}, {'imdb_id': 1673702, 'title': 'Une vie de chat (2010)', 'date': '2010-12-13T00:00:00Z', 'genres': 'Animation', 'runtime': 70, 'rating': 7.0, 'votes': 68, 'budget': 0, 'revenue': 309973, 'language': 'French', 'production': 'France 3 Cinéma'}, {'imdb_id': 1839494, 'title': 'Hoshi o ou kodomo (2011)', 'date': '2011-05-07T00:00:00Z', 'genres': 'Animation', 'runtime': 116, 'rating': 7.3, 'votes': 137, 'budget': 0, 'revenue': 0, 'language': 'Japanese', 'production': 'CoMix Wave'}, {'imdb_id': 1482459, 'title': 'The Lorax (2012)', 'date': '2012-03-01T00:00:00Z', 'genres': 'Animation', 'runtime': 86, 'rating': 6.5, 'votes': 1048, 'budget': 70000000, 'revenue': 348840316, 'language': 'English', 'production': 'Universal Pictures'}, {'imdb_id': 1401113, 'title': \"Dante's Inferno: An Animated Epic (2010)\", 'date': '2010-02-09T00:00:00Z', 'genres': 'Animation', 'runtime': 84, 'rating': 6.6, 'votes': 62, 'budget': 0, 'revenue': 0, 'language': 'English', 'production': 'Dong Woo Animation'}, {'imdb_id': 1430626, 'title': 'The Pirates! Band of Misfits (2012)', 'date': '2012-03-12T00:00:00Z', 'genres': 'Animation', 'runtime': 88, 'rating': 6.7, 'votes': 379, 'budget': 60000000, 'revenue': 118338361, 'language': 'English', 'production': 'Columbia Pictures'}, {'imdb_id': 2224455, 'title': 'Superman vs. The Elite (2012)', 'date': '2012-06-12T00:00:00Z', 'genres': 'Animation', 'runtime': 76, 'rating': 7.1, 'votes': 103, 'budget': 3500000, 'revenue': 0, 'language': 'English', 'production': 'DC Comics'}, {'imdb_id': 1277953, 'title': \"Madagascar 3: Europe's Most Wanted (2012)\", 'date': '2012-06-06T00:00:00Z', 'genres': 'Animation', 'runtime': 93, 'rating': 6.9, 'votes': 1857, 'budget': 145000000, 'revenue': 746921274, 'language': 'English', 'production': 'DreamWorks Animation'}, {'imdb_id': 1398941, 'title': 'Superman/Batman: Public Enemies (2009)', 'date': '2009-09-29T00:00:00Z', 'genres': 'Animation', 'runtime': 67, 'rating': 7.2, 'votes': 158, 'budget': 0, 'revenue': 0, 'language': 'English', 'production': 'DC Comics'}, {'imdb_id': 1217209, 'title': 'Brave (2012)', 'date': '2012-06-21T00:00:00Z', 'genres': 'Animation', 'runtime': 93, 'rating': 7.2, 'votes': 4760, 'budget': 185000000, 'revenue': 538983207, 'language': 'English', 'production': 'Walt Disney Pictures'}, {'imdb_id': 1245104, 'title': 'Presto (2008)', 'date': '2008-06-18T00:00:00Z', 'genres': 'Animation', 'runtime': 5, 'rating': 8.5, 'votes': 371, 'budget': 0, 'revenue': 0, 'language': 'English', 'production': 'Pixar Animation Studios'}, {'imdb_id': 1667889, 'title': 'Ice Age: Continental Drift (2012)', 'date': '2012-06-26T00:00:00Z', 'genres': 'Animation', 'runtime': 88, 'rating': 6.6, 'votes': 2731, 'budget': 95000000, 'revenue': 877244782, 'language': 'English', 'production': 'Blue Sky Studios'}, {'imdb_id': 969647, 'title': \"The Little Mermaid: Ariel's Beginning (2008)\", 'date': '2008-08-26T00:00:00Z', 'genres': 'Animation', 'runtime': 77, 'rating': 6.4, 'votes': 187, 'budget': 0, 'revenue': 0, 'language': 'English', 'production': 'DisneyToon Studios'}, {'imdb_id': 1623288, 'title': 'ParaNorman (2012)', 'date': '2012-08-03T00:00:00Z', 'genres': 'Animation', 'runtime': 90, 'rating': 7.0, 'votes': 808, 'budget': 60000000, 'revenue': 107139399, 'language': 'English', 'production': 'Focus Features'}, {'imdb_id': 940657, 'title': 'Arthur et la vengeance de Maltazard (2009)', 'date': '2009-11-26T00:00:00Z', 'genres': 'Animation', 'runtime': 93, 'rating': 5.3, 'votes': 392, 'budget': 87000000, 'revenue': 0, 'language': 'English', 'production': 'Sofica Europacorp'}, {'imdb_id': 1142977, 'title': 'Frankenweenie (2012)', 'date': '2012-10-04T00:00:00Z', 'genres': 'Animation', 'runtime': 87, 'rating': 7.0, 'votes': 951, 'budget': 39000000, 'revenue': 35287788, 'language': 'English', 'production': 'Tim Burton Productions'}, {'imdb_id': 837562, 'title': 'Hotel Transylvania (2012)', 'date': '2012-09-20T00:00:00Z', 'genres': 'Animation', 'runtime': 91, 'rating': 7.1, 'votes': 2622, 'budget': 85000000, 'revenue': 358375603, 'language': 'English', 'production': 'Columbia Pictures'}, {'imdb_id': 844993, 'title': 'Hoodwinked Too! Hood vs. Evil (2011)', 'date': '2011-04-29T00:00:00Z', 'genres': 'Animation', 'runtime': 86, 'rating': 4.8, 'votes': 135, 'budget': 30000000, 'revenue': 13521829, 'language': 'English', 'production': 'HW Two'}, {'imdb_id': 1772341, 'title': 'Wreck-It Ralph (2012)', 'date': '2012-11-01T00:00:00Z', 'genres': 'Animation', 'runtime': 108, 'rating': 7.8, 'votes': 4656, 'budget': 165000000, 'revenue': 471222889, 'language': 'English', 'production': 'Walt Disney Animation Studios'}, {'imdb_id': 2313197, 'title': 'Batman: The Dark Knight Returns, Part 1 (2012)', 'date': '2012-09-06T00:00:00Z', 'genres': 'Animation', 'runtime': 76, 'rating': 8.0, 'votes': 410, 'budget': 3500000, 'revenue': 0, 'language': 'English', 'production': 'DC Comics'}, {'imdb_id': 1446192, 'title': 'Rise of the Guardians (2012)', 'date': '2012-11-21T00:00:00Z', 'genres': 'Animation', 'runtime': 97, 'rating': 7.3, 'votes': 1981, 'budget': 145000000, 'revenue': 306941670, 'language': 'English', 'production': 'DreamWorks Animation'}, {'imdb_id': 2388725, 'title': 'Paperman (2012)', 'date': '2012-11-02T00:00:00Z', 'genres': 'Animation', 'runtime': 7, 'rating': 8.3, 'votes': 734, 'budget': 0, 'revenue': 0, 'language': 'English', 'production': 'Walt Disney Pictures'}, {'imdb_id': 1798188, 'title': 'From Up on Poppy Hill (2011)', 'date': '2011-07-16T00:00:00Z', 'genres': 'Animation', 'runtime': 91, 'rating': 7.4, 'votes': 332, 'budget': 0, 'revenue': 0, 'language': 'Japanese', 'production': 'Studio Ghibli'}, {'imdb_id': 1483797, 'title': 'Redline (2009)', 'date': '2009-08-14T00:00:00Z', 'genres': 'Animation', 'runtime': 102, 'rating': 7.5, 'votes': 50, 'budget': 0, 'revenue': 0, 'language': 'Japanese', 'production': 'Madhouse'}, {'imdb_id': 2396224, 'title': \"It's Such a Beautiful Day (2012)\", 'date': '2012-10-05T00:00:00Z', 'genres': 'Animation', 'runtime': 62, 'rating': 8.3, 'votes': 94, 'budget': 0, 'revenue': 0, 'language': 'English', 'production': 'Bitter Films'}, {'imdb_id': 2166834, 'title': 'Batman: The Dark Knight Returns, Part 2 (2013)', 'date': '2013-01-18T00:00:00Z', 'genres': 'Animation', 'runtime': 78, 'rating': 8.4, 'votes': 426, 'budget': 3500000, 'revenue': 0, 'language': 'English', 'production': 'DC Comics'}, {'imdb_id': 1174954, 'title': 'Resident Evil: Degeneration (2008)', 'date': '2008-02-13T00:00:00Z', 'genres': 'Animation', 'runtime': 97, 'rating': 6.6, 'votes': 248, 'budget': 0, 'revenue': 0, 'language': 'Japanese', 'production': 'Sony Pictures Entertainment'}, {'imdb_id': 1753496, 'title': 'Resident Evil: Damnation (2012)', 'date': '2012-09-25T00:00:00Z', 'genres': 'Animation', 'runtime': 100, 'rating': 6.5, 'votes': 186, 'budget': 0, 'revenue': 0, 'language': 'English', 'production': 'Digital Frontier'}, {'imdb_id': 765446, 'title': 'Escape from Planet Earth (2013)', 'date': '2013-02-14T00:00:00Z', 'genres': 'Animation', 'runtime': 89, 'rating': 6.0, 'votes': 337, 'budget': 40000000, 'revenue': 74597643, 'language': 'English', 'production': 'Rainmaker Entertainment'}, {'imdb_id': 2085930, 'title': 'Starship Troopers: Invasion (2012)', 'date': '2012-07-21T00:00:00Z', 'genres': 'Animation', 'runtime': 89, 'rating': 5.9, 'votes': 139, 'budget': 0, 'revenue': 0, 'language': 'English', 'production': 'Sola Digital Arts'}, {'imdb_id': 481499, 'title': 'The Croods (2013)', 'date': '2013-03-20T00:00:00Z', 'genres': 'Animation', 'runtime': 98, 'rating': 7.2, 'votes': 2447, 'budget': 135000000, 'revenue': 585178928, 'language': 'English', 'production': 'DreamWorks Animation'}, {'imdb_id': 2140203, 'title': 'Ookami kodomo no Ame to Yuki (2012)', 'date': '2012-07-21T00:00:00Z', 'genres': 'Animation', 'runtime': 117, 'rating': 8.2, 'votes': 483, 'budget': 0, 'revenue': 0, 'language': 'Japanese', 'production': 'Madhouse'}, {'imdb_id': 1667903, 'title': 'Thor: Tales of Asgard (2011)', 'date': '2011-05-16T00:00:00Z', 'genres': 'Animation', 'runtime': 77, 'rating': 6.4, 'votes': 53, 'budget': 0, 'revenue': 3100000, 'language': 'English', 'production': 'Marvel Studios'}, {'imdb_id': 2654124, 'title': 'Iron Man: Rise of Technovore (2013)', 'date': '2013-04-24T00:00:00Z', 'genres': 'Animation', 'runtime': 88, 'rating': 5.3, 'votes': 61, 'budget': 0, 'revenue': 0, 'language': 'Japanese', 'production': 'Madhouse'}, {'imdb_id': 1483025, 'title': 'Planet Hulk (2010)', 'date': '2010-02-02T00:00:00Z', 'genres': 'Animation', 'runtime': 81, 'rating': 6.8, 'votes': 108, 'budget': 0, 'revenue': 7000000, 'language': 'English', 'production': 'Marvel Animation'}, {'imdb_id': 2027128, 'title': 'Justice League: Doom (2012)', 'date': '2012-02-28T00:00:00Z', 'genres': 'Animation', 'runtime': 77, 'rating': 7.5, 'votes': 197, 'budget': 0, 'revenue': 0, 'language': 'English', 'production': 'DC Comics'}, {'imdb_id': 2617456, 'title': 'Superman: Unbound (2013)', 'date': '2013-05-06T00:00:00Z', 'genres': 'Animation', 'runtime': 75, 'rating': 6.7, 'votes': 109, 'budget': 0, 'revenue': 2915767, 'language': 'English', 'production': 'DC Comics'}, {'imdb_id': 848537, 'title': 'Epic (2013)', 'date': '2013-05-15T00:00:00Z', 'genres': 'Animation', 'runtime': 102, 'rating': 6.7, 'votes': 1143, 'budget': 100000000, 'revenue': 268426634, 'language': 'English', 'production': 'Blue Sky Studios'}, {'imdb_id': 1453405, 'title': 'Monsters University (2013)', 'date': '2013-06-20T00:00:00Z', 'genres': 'Animation', 'runtime': 104, 'rating': 7.3, 'votes': 3622, 'budget': 200000000, 'revenue': 743559607, 'language': 'English', 'production': 'Walt Disney Pictures'}, {'imdb_id': 1776196, 'title': 'Fullmetal Alchemist: The Sacred Star of Milos (2011)', 'date': '2011-07-02T00:00:00Z', 'genres': 'Animation', 'runtime': 110, 'rating': 7.1, 'votes': 55, 'budget': 0, 'revenue': 7401480, 'language': 'Japanese', 'production': 'Tokyo Broadcasting System (TBS)'}, {'imdb_id': 2465238, 'title': 'Lego Batman: The Movie - DC Super Heroes Unite (2013)', 'date': '2013-05-20T00:00:00Z', 'genres': 'Animation', 'runtime': 71, 'rating': 6.6, 'votes': 81, 'budget': 0, 'revenue': 0, 'language': 'English', 'production': 'DC Comics'}, {'imdb_id': 1690953, 'title': 'Despicable Me 2 (2013)', 'date': '2013-06-25T00:00:00Z', 'genres': 'Animation', 'runtime': 98, 'rating': 7.4, 'votes': 4729, 'budget': 76000000, 'revenue': 970761885, 'language': 'English', 'production': 'Universal Pictures'}, {'imdb_id': 2820466, 'title': 'Justice League: The Flashpoint Paradox (2013)', 'date': '2013-07-28T00:00:00Z', 'genres': 'Animation', 'runtime': 75, 'rating': 8.1, 'votes': 458, 'budget': 3500000, 'revenue': 0, 'language': 'English', 'production': 'DC Comics'}, {'imdb_id': 1860353, 'title': 'Turbo (2013)', 'date': '2013-07-11T00:00:00Z', 'genres': 'Animation', 'runtime': 96, 'rating': 6.5, 'votes': 1094, 'budget': 135000000, 'revenue': 282570682, 'language': 'English', 'production': 'DreamWorks Animation'}, {'imdb_id': 2017020, 'title': 'The Smurfs 2 (2013)', 'date': '2013-07-30T00:00:00Z', 'genres': 'Animation', 'runtime': 105, 'rating': 5.4, 'votes': 711, 'budget': 105000000, 'revenue': 347434178, 'language': 'English', 'production': 'Columbia Pictures'}, {'imdb_id': 1683043, 'title': 'Green Lantern: Emerald Knights (2011)', 'date': '2011-04-09T00:00:00Z', 'genres': 'Animation', 'runtime': 84, 'rating': 6.8, 'votes': 123, 'budget': 3500000, 'revenue': 0, 'language': 'English', 'production': 'DC Comics'}, {'imdb_id': 1691917, 'title': 'Planes (2013)', 'date': '2013-08-09T00:00:00Z', 'genres': 'Animation', 'runtime': 91, 'rating': 5.8, 'votes': 568, 'budget': 50000000, 'revenue': 219788712, 'language': 'English', 'production': 'Walt Disney Pictures'}, {'imdb_id': 2013293, 'title': 'Kaze tachinu (2013)', 'date': '2013-07-20T00:00:00Z', 'genres': 'Animation', 'runtime': 126, 'rating': 7.8, 'votes': 720, 'budget': 30000000, 'revenue': 117932401, 'language': 'Japanese', 'production': 'Toho Company'}, {'imdb_id': 1494772, 'title': 'Justice League: Crisis on Two Earths (2010)', 'date': '2010-02-23T00:00:00Z', 'genres': 'Animation', 'runtime': 75, 'rating': 7.3, 'votes': 152, 'budget': 0, 'revenue': 0, 'language': 'English', 'production': 'DC Comics'}, {'imdb_id': 1563725, 'title': 'Logorama (2009)', 'date': '2009-01-01T00:00:00Z', 'genres': 'Animation', 'runtime': 16, 'rating': 7.6, 'votes': 50, 'budget': 0, 'revenue': 0, 'language': 'English', 'production': 'H5'}, {'imdb_id': 1655413, 'title': 'Le magasin des suicides (2012)', 'date': '2012-09-26T00:00:00Z', 'genres': 'Animation', 'runtime': 80, 'rating': 6.2, 'votes': 169, 'budget': 0, 'revenue': 0, 'language': 'French', 'production': 'ARP Sélection'}, {'imdb_id': 1488181, 'title': 'Zambezia (2012)', 'date': '2012-06-05T00:00:00Z', 'genres': 'Animation', 'runtime': 83, 'rating': 5.8, 'votes': 69, 'budget': 20000000, 'revenue': 0, 'language': 'English', 'production': 'Industrial Development Corporation of South Africa'}, {'imdb_id': 1985966, 'title': 'Cloudy with a Chance of Meatballs 2 (2013)', 'date': '2013-09-26T00:00:00Z', 'genres': 'Animation', 'runtime': 95, 'rating': 6.5, 'votes': 936, 'budget': 78000000, 'revenue': 248384621, 'language': 'English', 'production': 'Columbia Pictures'}, {'imdb_id': 1821641, 'title': 'The Congress (2013)', 'date': '2013-05-16T00:00:00Z', 'genres': 'Animation', 'runtime': 122, 'rating': 6.5, 'votes': 165, 'budget': 0, 'revenue': 455815, 'language': 'English', 'production': 'Pandora Filmproduktion'}, {'imdb_id': 2616880, 'title': 'The Blue Umbrella (2013)', 'date': '2013-02-12T00:00:00Z', 'genres': 'Animation', 'runtime': 7, 'rating': 7.7, 'votes': 183, 'budget': 0, 'revenue': 0, 'language': 'English', 'production': 'Pixar Animation Studios'}, {'imdb_id': 2446040, 'title': 'Toy Story of Terror (2013)', 'date': '2013-10-15T00:00:00Z', 'genres': 'Animation', 'runtime': 22, 'rating': 7.6, 'votes': 246, 'budget': 0, 'revenue': 0, 'language': 'English', 'production': 'Walt Disney Pictures'}, {'imdb_id': 1621039, 'title': 'Free Birds (2013)', 'date': '2013-10-30T00:00:00Z', 'genres': 'Animation', 'runtime': 91, 'rating': 5.9, 'votes': 259, 'budget': 55000000, 'revenue': 110000000, 'language': 'English', 'production': 'Reel FX Creative Studios'}, {'imdb_id': 1485763, 'title': 'Wan pisu firumu: sutorongu warudo (2009)', 'date': '2009-12-12T00:00:00Z', 'genres': 'Animation', 'runtime': 114, 'rating': 7.7, 'votes': 68, 'budget': 0, 'revenue': 53000000, 'language': 'Japanese', 'production': 'Shueisha'}, {'imdb_id': 2375379, 'title': 'One Piece Film Z (2012)', 'date': '2012-12-15T00:00:00Z', 'genres': 'Animation', 'runtime': 108, 'rating': 8.0, 'votes': 83, 'budget': 0, 'revenue': 0, 'language': 'Japanese', 'production': 'Toei Animation'}, {'imdb_id': 2294629, 'title': 'Frozen (2013)', 'date': '2013-11-27T00:00:00Z', 'genres': 'Animation', 'runtime': 102, 'rating': 7.5, 'votes': 5440, 'budget': 150000000, 'revenue': 1274219009, 'language': 'English', 'production': 'Walt Disney Pictures'}, {'imdb_id': 860907, 'title': 'Evangerion shin gekijÌ«ban: Kyu (2012)', 'date': '2012-11-17T00:00:00Z', 'genres': 'Animation', 'runtime': 106, 'rating': 7.0, 'votes': 107, 'budget': 0, 'revenue': 60487945, 'language': 'Japanese', 'production': 'Studio Khara'}, {'imdb_id': 2263944, 'title': 'Dragon Ball Z: Doragon bÌ«ru Z - Kami to Kami (2013)', 'date': '2013-03-30T00:00:00Z', 'genres': 'Animation', 'runtime': 85, 'rating': 7.3, 'votes': 370, 'budget': 0, 'revenue': 50353002, 'language': 'Japanese', 'production': 'Twentieth Century Fox Film Corporation'}, {'imdb_id': 1634003, 'title': 'Underdogs (2013)', 'date': '2013-07-18T00:00:00Z', 'genres': 'Animation', 'runtime': 106, 'rating': 6.6, 'votes': 127, 'budget': 22000000, 'revenue': 24000000, 'language': 'Spanish', 'production': '100 Bares'}, {'imdb_id': 2288005, 'title': \"A Turtle's Tale 2: Sammy's Escape from Paradise (2012)\", 'date': '2012-08-15T00:00:00Z', 'genres': 'Animation', 'runtime': 92, 'rating': 5.7, 'votes': 58, 'budget': 0, 'revenue': 0, 'language': 'English', 'production': 'Studio Canal'}, {'imdb_id': 3060952, 'title': 'Justice League: War (2014)', 'date': '2014-02-02T00:00:00Z', 'genres': 'Animation', 'runtime': 79, 'rating': 7.3, 'votes': 234, 'budget': 3500000, 'revenue': 5155325, 'language': 'English', 'production': 'DC Comics'}, {'imdb_id': 1816518, 'title': 'Ernest & Celestine (2012)', 'date': '2012-12-12T00:00:00Z', 'genres': 'Animation', 'runtime': 78, 'rating': 7.9, 'votes': 148, 'budget': 12516654, 'revenue': 8109160, 'language': 'French', 'production': 'StudioCanal'}, {'imdb_id': 1186373, 'title': 'Wonder Woman (2009)', 'date': '2009-03-03T00:00:00Z', 'genres': 'Animation', 'runtime': 74, 'rating': 7.4, 'votes': 133, 'budget': 0, 'revenue': 0, 'language': 'English', 'production': 'DC Comics'}, {'imdb_id': 1490017, 'title': 'The Lego Movie (2014)', 'date': '2014-02-06T00:00:00Z', 'genres': 'Animation', 'runtime': 100, 'rating': 7.8, 'votes': 3127, 'budget': 60000000, 'revenue': 469160692, 'language': 'English', 'production': 'Village Roadshow Pictures'}, {'imdb_id': 1957945, 'title': 'La Luna (2011)', 'date': '2011-01-01T00:00:00Z', 'genres': 'Animation', 'runtime': 7, 'rating': 8.0, 'votes': 257, 'budget': 0, 'revenue': 0, 'language': 'English', 'production': 'Pixar Animation Studios'}, {'imdb_id': 1537759, 'title': \"Dug's Special Mission (2009)\", 'date': '2009-11-09T00:00:00Z', 'genres': 'Animation', 'runtime': 5, 'rating': 7.1, 'votes': 72, 'budget': 0, 'revenue': 0, 'language': 'English', 'production': 'Pixar Animation Studios'}, {'imdb_id': 2591814, 'title': 'Koto no ha no niwa (2013)', 'date': '2013-05-31T00:00:00Z', 'genres': 'Animation', 'runtime': 46, 'rating': 7.6, 'votes': 358, 'budget': 0, 'revenue': 0, 'language': 'Japanese', 'production': 'CoMix Wave Films'}, {'imdb_id': 1744776, 'title': 'Legend of the Boneknapper Dragon (2010)', 'date': '2010-10-15T00:00:00Z', 'genres': 'Animation', 'runtime': 16, 'rating': 7.1, 'votes': 69, 'budget': 0, 'revenue': 0, 'language': 'English', 'production': 'DreamWorks Animation'}, {'imdb_id': 864835, 'title': 'Mr. Peabody & Sherman (2014)', 'date': '2014-02-07T00:00:00Z', 'genres': 'Animation', 'runtime': 92, 'rating': 6.9, 'votes': 861, 'budget': 145000000, 'revenue': 272912430, 'language': 'English', 'production': 'Pacific Data Images (PDI)'}, {'imdb_id': 2268617, 'title': 'Puss in Boots: The Three Diablos (2012)', 'date': '2012-12-08T00:00:00Z', 'genres': 'Animation', 'runtime': 13, 'rating': 7.0, 'votes': 112, 'budget': 0, 'revenue': 0, 'language': 'English', 'production': None}, {'imdb_id': 2668134, 'title': 'Harlock: Space Pirate (2013)', 'date': '2013-09-07T00:00:00Z', 'genres': 'Animation', 'runtime': 115, 'rating': 6.5, 'votes': 365, 'budget': 30000000, 'revenue': 17137302, 'language': 'Japanese', 'production': 'Toei Animation Company'}, {'imdb_id': 1821658, 'title': 'The Nut Job (2014)', 'date': '2014-01-17T00:00:00Z', 'genres': 'Animation', 'runtime': 85, 'rating': 5.8, 'votes': 322, 'budget': 0, 'revenue': 0, 'language': 'English', 'production': 'Open Road Films'}, {'imdb_id': 3482378, 'title': 'Avengers Confidential: Black Widow & Punisher (2014)', 'date': '2014-03-25T00:00:00Z', 'genres': 'Animation', 'runtime': 83, 'rating': 5.8, 'votes': 68, 'budget': 0, 'revenue': 0, 'language': 'Japanese', 'production': 'Madhouse'}, {'imdb_id': 3139072, 'title': 'Son of Batman (2014)', 'date': '2014-04-20T00:00:00Z', 'genres': 'Animation', 'runtime': 74, 'rating': 6.7, 'votes': 299, 'budget': 0, 'revenue': 0, 'language': 'English', 'production': 'DC Comics'}, {'imdb_id': 2357291, 'title': 'Rio 2 (2014)', 'date': '2014-03-19T00:00:00Z', 'genres': 'Animation', 'runtime': 102, 'rating': 6.4, 'votes': 997, 'budget': 103000000, 'revenue': 500188435, 'language': 'English', 'production': 'Blue Sky Studios'}, {'imdb_id': 2368672, 'title': 'Minuscule: Valley of the Lost Ants (2013)', 'date': '2013-11-17T00:00:00Z', 'genres': 'Animation', 'runtime': 89, 'rating': 7.1, 'votes': 128, 'budget': 19700000, 'revenue': 30000000, 'language': None, 'production': 'Futurikon'}, {'imdb_id': 2112281, 'title': 'Tangled Ever After (2012)', 'date': '2012-01-13T00:00:00Z', 'genres': 'Animation', 'runtime': 6, 'rating': 7.7, 'votes': 383, 'budget': 0, 'revenue': 0, 'language': 'English', 'production': 'Walt Disney Animation Studios'}, {'imdb_id': 1853614, 'title': 'Momo e no tegami (2011)', 'date': '2011-04-21T00:00:00Z', 'genres': 'Animation', 'runtime': 120, 'rating': 7.3, 'votes': 70, 'budget': 0, 'revenue': 6748712, 'language': 'Japanese', 'production': 'Tokyo Broadcasting System (TBS)'}, {'imdb_id': 1646971, 'title': 'How to Train Your Dragon 2 (2014)', 'date': '2014-06-12T00:00:00Z', 'genres': 'Animation', 'runtime': 102, 'rating': 7.9, 'votes': 3163, 'budget': 145000000, 'revenue': 609123048, 'language': 'English', 'production': 'DreamWorks Animation'}, {'imdb_id': 2980706, 'title': 'Planes: Fire & Rescue (2014)', 'date': '2014-07-17T00:00:00Z', 'genres': 'Animation', 'runtime': 83, 'rating': 6.0, 'votes': 286, 'budget': 50000000, 'revenue': 151165787, 'language': 'English', 'production': 'Walt Disney Pictures'}, {'imdb_id': 1677561, 'title': 'Karafuru (2010)', 'date': '2010-08-21T00:00:00Z', 'genres': 'Animation', 'runtime': 127, 'rating': 7.5, 'votes': 62, 'budget': 0, 'revenue': 0, 'language': 'Japanese', 'production': 'Sunrise'}, {'imdb_id': 3139086, 'title': 'Batman: Assault on Arkham (2014)', 'date': '2014-08-12T00:00:00Z', 'genres': 'Animation', 'runtime': 75, 'rating': 7.5, 'votes': 298, 'budget': 0, 'revenue': 4571025, 'language': 'English', 'production': 'Warner Bros. Animation'}, {'imdb_id': 3638012, 'title': 'Appleseed Alpha (2014)', 'date': '2014-05-28T00:00:00Z', 'genres': 'Animation', 'runtime': 90, 'rating': 6.6, 'votes': 154, 'budget': 0, 'revenue': 0, 'language': 'Japanese', 'production': 'Stage 6 Films'}, {'imdb_id': 2231489, 'title': 'Saint Seiya: Legend of Sanctuary (2014)', 'date': '2014-06-21T00:00:00Z', 'genres': 'Animation', 'runtime': 93, 'rating': 5.5, 'votes': 162, 'budget': 0, 'revenue': 0, 'language': 'Japanese', 'production': 'Toei Animation'}, {'imdb_id': 787474, 'title': 'The Boxtrolls (2014)', 'date': '2014-09-10T00:00:00Z', 'genres': 'Animation', 'runtime': 97, 'rating': 6.8, 'votes': 689, 'budget': 60000000, 'revenue': 108255770, 'language': 'English', 'production': 'Laika Entertainment'}, {'imdb_id': 2576852, 'title': 'The Tale of the Princess Kaguya (2013)', 'date': '2013-11-23T00:00:00Z', 'genres': 'Animation', 'runtime': 137, 'rating': 8.1, 'votes': 350, 'budget': 49300000, 'revenue': 24186232, 'language': 'Japanese', 'production': 'Studio Ghibli'}, {'imdb_id': 1181840, 'title': 'Jack et la mÌ©canique du coeur (2013)', 'date': '2013-11-17T00:00:00Z', 'genres': 'Animation', 'runtime': 94, 'rating': 7.0, 'votes': 199, 'budget': 33, 'revenue': 0, 'language': 'French', 'production': 'EuropaCorp'}, {'imdb_id': 1639826, 'title': 'Justin and the Knights of Valour (2013)', 'date': '2013-08-09T00:00:00Z', 'genres': 'Animation', 'runtime': 90, 'rating': 6.1, 'votes': 93, 'budget': 22000000, 'revenue': 0, 'language': 'English', 'production': 'Constantin Film'}, {'imdb_id': 2245084, 'title': 'Big Hero 6 (2014)', 'date': '2014-10-24T00:00:00Z', 'genres': 'Animation', 'runtime': 102, 'rating': 7.8, 'votes': 6289, 'budget': 165000000, 'revenue': 652105443, 'language': 'English', 'production': 'Walt Disney Pictures'}, {'imdb_id': 2262227, 'title': 'The Book of Life (2014)', 'date': '2014-10-01T00:00:00Z', 'genres': 'Animation', 'runtime': 95, 'rating': 7.3, 'votes': 778, 'budget': 50000000, 'revenue': 97437106, 'language': 'English', 'production': 'Twentieth Century Fox Film Corporation'}, {'imdb_id': 1850374, 'title': 'Toy Story Toons: Hawaiian Vacation (2011)', 'date': '2011-06-16T00:00:00Z', 'genres': 'Animation', 'runtime': 6, 'rating': 7.5, 'votes': 151, 'budget': 0, 'revenue': 0, 'language': 'English', 'production': 'Pixar Animation Studios'}, {'imdb_id': 2175842, 'title': 'The Longest Daycare (2012)', 'date': '2012-07-12T00:00:00Z', 'genres': 'Animation', 'runtime': 5, 'rating': 7.3, 'votes': 87, 'budget': 0, 'revenue': 0, 'language': 'English', 'production': 'Gracie Films'}, {'imdb_id': 2033372, 'title': 'Toy Story Toons: Small Fry (2011)', 'date': '2011-11-23T00:00:00Z', 'genres': 'Animation', 'runtime': 7, 'rating': 7.2, 'votes': 118, 'budget': 0, 'revenue': 0, 'language': 'English', 'production': 'Pixar Animation Studios'}, {'imdb_id': 2091240, 'title': 'Barbie: A Perfect Christmas (2011)', 'date': '2011-07-01T00:00:00Z', 'genres': 'Animation', 'runtime': 74, 'rating': 5.5, 'votes': 50, 'budget': 0, 'revenue': 0, 'language': 'English', 'production': None}, {'imdb_id': 1762399, 'title': 'Walking with Dinosaurs 3D (2013)', 'date': '2013-12-18T00:00:00Z', 'genres': 'Animation', 'runtime': 87, 'rating': 5.2, 'votes': 136, 'budget': 80000000, 'revenue': 126546518, 'language': 'English', 'production': 'BBC Worldwide'}, {'imdb_id': 1217213, 'title': 'Secret of the Wings (2012)', 'date': '2012-08-17T00:00:00Z', 'genres': 'Animation', 'runtime': 92, 'rating': 7.2, 'votes': 303, 'budget': 0, 'revenue': 0, 'language': 'English', 'production': 'DisneyToon Studios'}, {'imdb_id': 1216516, 'title': 'Tinker Bell and the Lost Treasure (2009)', 'date': '2009-09-03T00:00:00Z', 'genres': 'Animation', 'runtime': 81, 'rating': 6.8, 'votes': 230, 'budget': 0, 'revenue': 0, 'language': 'English', 'production': 'DisneyToon Studios'}, {'imdb_id': 2981768, 'title': 'Sakasama no Patema (2013)', 'date': '2013-11-09T00:00:00Z', 'genres': 'Animation', 'runtime': 98, 'rating': 7.4, 'votes': 85, 'budget': 0, 'revenue': 0, 'language': 'Japanese', 'production': 'Purple Cow Studio'}, {'imdb_id': 3398268, 'title': 'Omoide no MÌ¢nÌ¨ (2014)', 'date': '2014-07-19T00:00:00Z', 'genres': 'Animation', 'runtime': 103, 'rating': 7.8, 'votes': 345, 'budget': 0, 'revenue': 561085, 'language': 'Japanese', 'production': 'Studio Ghibli'}, {'imdb_id': 1865505, 'title': 'Song of the Sea (2014)', 'date': '2014-09-06T00:00:00Z', 'genres': 'Animation', 'runtime': 93, 'rating': 8.1, 'votes': 420, 'budget': 0, 'revenue': 857522, 'language': 'English', 'production': 'Irish Film Board'}, {'imdb_id': 3759416, 'title': 'AstÌ©rix: Le domaine des dieux (2014)', 'date': '2014-11-26T00:00:00Z', 'genres': 'Animation', 'runtime': 85, 'rating': 7.0, 'votes': 401, 'budget': 30000000, 'revenue': 0, 'language': 'French', 'production': 'Canal Plus'}, {'imdb_id': 1911658, 'title': 'Penguins of Madagascar (2014)', 'date': '2014-11-22T00:00:00Z', 'genres': 'Animation', 'runtime': 92, 'rating': 6.7, 'votes': 1375, 'budget': 132000000, 'revenue': 373552094, 'language': 'English', 'production': 'DreamWorks Animation'}, {'imdb_id': 1355638, 'title': 'Le chat du rabbin (2011)', 'date': '2011-05-31T00:00:00Z', 'genres': 'Animation', 'runtime': 100, 'rating': 7.2, 'votes': 51, 'budget': 0, 'revenue': 0, 'language': 'French', 'production': 'Procirep'}, {'imdb_id': 2100546, 'title': 'Ice Age: A Mammoth Christmas (2011)', 'date': '2011-11-24T00:00:00Z', 'genres': 'Animation', 'runtime': 26, 'rating': 6.5, 'votes': 171, 'budget': 0, 'revenue': 0, 'language': 'English', 'production': 'Reel FX Creative Studios'}, {'imdb_id': 1487931, 'title': 'Khumba (2013)', 'date': '2013-07-18T00:00:00Z', 'genres': 'Animation', 'runtime': 85, 'rating': 5.8, 'votes': 74, 'budget': 20000000, 'revenue': 27187375, 'language': 'English', 'production': 'Triggerfish Animation'}, {'imdb_id': 3468260, 'title': 'JLA Adventures: Trapped in Time (2014)', 'date': '2014-01-21T00:00:00Z', 'genres': 'Animation', 'runtime': 52, 'rating': 5.9, 'votes': 60, 'budget': 0, 'revenue': 0, 'language': 'English', 'production': 'DC Comics'}, {'imdb_id': 1235837, 'title': \"Happily N'Ever After 2 (2009)\", 'date': '2009-03-24T00:00:00Z', 'genres': 'Animation', 'runtime': 75, 'rating': 3.9, 'votes': 51, 'budget': 0, 'revenue': 0, 'language': 'English', 'production': 'Kickstart Productions'}, {'imdb_id': 3878542, 'title': 'Justice League: Throne of Atlantis (2015)', 'date': '2015-01-27T00:00:00Z', 'genres': 'Animation', 'runtime': 72, 'rating': 6.7, 'votes': 222, 'budget': 3500000, 'revenue': 0, 'language': 'English', 'production': 'DC Comics'}, {'imdb_id': 1725929, 'title': 'Barbie: A Fashion Fairytale (2010)', 'date': '2010-09-14T00:00:00Z', 'genres': 'Animation', 'runtime': 79, 'rating': 6.1, 'votes': 70, 'budget': 0, 'revenue': 0, 'language': 'English', 'production': 'Mattel'}, {'imdb_id': 4191054, 'title': 'Strange Magic (2015)', 'date': '2015-01-23T00:00:00Z', 'genres': 'Animation', 'runtime': 99, 'rating': 5.8, 'votes': 105, 'budget': 0, 'revenue': 13603453, 'language': 'English', 'production': 'Lucasfilm'}, {'imdb_id': 1808454, 'title': 'Sala samobÌ_jcÌ_w (2011)', 'date': '2011-03-04T00:00:00Z', 'genres': 'Animation', 'runtime': 110, 'rating': 6.9, 'votes': 113, 'budget': 0, 'revenue': 0, 'language': None, 'production': 'Studio Filmowe Kadr'}, {'imdb_id': 1043852, 'title': 'Lascars (2009)', 'date': '2009-06-17T00:00:00Z', 'genres': 'Animation', 'runtime': 96, 'rating': 7.0, 'votes': 55, 'budget': 12500000, 'revenue': 0, 'language': 'French', 'production': 'BAC Films'}, {'imdb_id': 2279373, 'title': 'The SpongeBob Movie: Sponge Out of Water (2015)', 'date': '2015-02-05T00:00:00Z', 'genres': 'Animation', 'runtime': 93, 'rating': 6.0, 'votes': 733, 'budget': 74000000, 'revenue': 311594032, 'language': 'English', 'production': 'Paramount Pictures'}, {'imdb_id': 2636124, 'title': 'Ghost in the Shell Arise: Border 1 - Ghost Pain (2013)', 'date': '2013-06-22T00:00:00Z', 'genres': 'Animation', 'runtime': 58, 'rating': 7.3, 'votes': 50, 'budget': 0, 'revenue': 0, 'language': 'Japanese', 'production': 'Bandai Visual Company'}, {'imdb_id': 1620449, 'title': 'Konferenz der Tiere (2010)', 'date': '2010-10-07T00:00:00Z', 'genres': 'Animation', 'runtime': 93, 'rating': 4.9, 'votes': 94, 'budget': 0, 'revenue': 0, 'language': 'German', 'production': 'Constantin Film Produktion'}, {'imdb_id': 3331846, 'title': 'Stand by Me Doraemon (2014)', 'date': '2014-08-08T00:00:00Z', 'genres': 'Animation', 'runtime': 90, 'rating': 7.4, 'votes': 103, 'budget': 35000000, 'revenue': 83061158, 'language': 'Japanese', 'production': 'Toho'}, {'imdb_id': 4007502, 'title': 'Frozen Fever (2015)', 'date': '2015-03-09T00:00:00Z', 'genres': 'Animation', 'runtime': 8, 'rating': 7.0, 'votes': 630, 'budget': 0, 'revenue': 0, 'language': 'English', 'production': 'Walt Disney Pictures'}, {'imdb_id': 2358911, 'title': 'Berserk: The Golden Age Arc II - The Battle for Doldrey (2012)', 'date': '2012-06-23T00:00:00Z', 'genres': 'Animation', 'runtime': 98, 'rating': 7.9, 'votes': 67, 'budget': 0, 'revenue': 0, 'language': 'Japanese', 'production': 'Warner Bros.'}, {'imdb_id': 2210479, 'title': 'Berserk: The Golden Age Arc I - The Egg of the King (2012)', 'date': '2012-02-03T00:00:00Z', 'genres': 'Animation', 'runtime': 76, 'rating': 7.7, 'votes': 105, 'budget': 0, 'revenue': 0, 'language': 'Japanese', 'production': 'Warner Bros.'}, {'imdb_id': 2358913, 'title': 'Berserk: The Golden Age Arc III - The Advent (2013)', 'date': '2013-02-01T00:00:00Z', 'genres': 'Animation', 'runtime': 110, 'rating': 8.0, 'votes': 58, 'budget': 0, 'revenue': 0, 'language': 'Japanese', 'production': 'Warner Bros.'}, {'imdb_id': 2224026, 'title': 'Home (2015)', 'date': '2015-03-18T00:00:00Z', 'genres': 'Animation', 'runtime': 94, 'rating': 6.7, 'votes': 1539, 'budget': 135000000, 'revenue': 368871007, 'language': 'English', 'production': 'Twentieth Century Fox Film Corporation'}, {'imdb_id': 1629374, 'title': 'Ronal Barbaren (2011)', 'date': '2011-09-27T00:00:00Z', 'genres': 'Animation', 'runtime': 85, 'rating': 6.7, 'votes': 95, 'budget': 0, 'revenue': 0, 'language': None, 'production': 'Det Danske Filminstitut'}, {'imdb_id': 2872750, 'title': 'Shaun the Sheep Movie (2015)', 'date': '2015-02-05T00:00:00Z', 'genres': 'Animation', 'runtime': 85, 'rating': 7.4, 'votes': 456, 'budget': 0, 'revenue': 59700000, 'language': 'English', 'production': 'Aardman Animations'}, {'imdb_id': 4324274, 'title': 'Batman vs. Robin (2015)', 'date': '2015-04-14T00:00:00Z', 'genres': 'Animation', 'runtime': 72, 'rating': 7.1, 'votes': 218, 'budget': 0, 'revenue': 0, 'language': 'English', 'production': 'Warner Bros. Animation'}, {'imdb_id': 3120408, 'title': 'Tinker Bell and the Legend of the NeverBeast (2014)', 'date': '2014-12-12T00:00:00Z', 'genres': 'Animation', 'runtime': 77, 'rating': 7.3, 'votes': 270, 'budget': 0, 'revenue': 0, 'language': 'English', 'production': 'Walt Disney Pictures'}, {'imdb_id': 2483260, 'title': 'The Pirate Fairy (2014)', 'date': '2014-02-13T00:00:00Z', 'genres': 'Animation', 'runtime': 78, 'rating': 6.6, 'votes': 286, 'budget': 0, 'revenue': 20300000, 'language': 'English', 'production': 'DisneyToon Studios'}, {'imdb_id': 4437640, 'title': 'Batman Unlimited: Animal Instincts (2015)', 'date': '2015-05-12T00:00:00Z', 'genres': 'Animation', 'runtime': 78, 'rating': 5.8, 'votes': 54, 'budget': 0, 'revenue': 0, 'language': 'English', 'production': 'Warner Bros. Animation'}, {'imdb_id': 3148834, 'title': 'Thunder and the House of Magic (2013)', 'date': '2013-12-24T00:00:00Z', 'genres': 'Animation', 'runtime': 85, 'rating': 6.3, 'votes': 125, 'budget': 34000000, 'revenue': 0, 'language': 'English', 'production': 'StudioCanal'}, {'imdb_id': 2066832, 'title': 'Barbie: Princess Charm School (2011)', 'date': '2011-08-11T00:00:00Z', 'genres': 'Animation', 'runtime': 79, 'rating': 6.3, 'votes': 97, 'budget': 0, 'revenue': 0, 'language': 'English', 'production': None}, {'imdb_id': 1800254, 'title': 'Barbie: A Fairy Secret (2011)', 'date': '2011-03-01T00:00:00Z', 'genres': 'Animation', 'runtime': 72, 'rating': 5.6, 'votes': 65, 'budget': 0, 'revenue': 0, 'language': 'English', 'production': 'Resnick Interactive Development'}, {'imdb_id': 2396690, 'title': 'Barbie: The Princess & the Popstar (2012)', 'date': '2012-09-13T00:00:00Z', 'genres': 'Animation', 'runtime': 86, 'rating': 5.6, 'votes': 57, 'budget': 0, 'revenue': 0, 'language': 'English', 'production': 'Rainmaker Entertainment'}, {'imdb_id': 1294138, 'title': 'Barbie and the Diamond Castle (2008)', 'date': '2008-01-01T00:00:00Z', 'genres': 'Animation', 'runtime': 78, 'rating': 6.1, 'votes': 83, 'budget': 0, 'revenue': 0, 'language': 'English', 'production': 'Rainmaker Entertainment'}, {'imdb_id': 1610301, 'title': 'Barbie in a Mermaid Tale (2010)', 'date': '2010-01-26T00:00:00Z', 'genres': 'Animation', 'runtime': 75, 'rating': 6.1, 'votes': 89, 'budget': 0, 'revenue': 16441438, 'language': 'English', 'production': None}, {'imdb_id': 1484922, 'title': 'Barbie and the Three Musketeers (2009)', 'date': '2009-09-15T00:00:00Z', 'genres': 'Animation', 'runtime': 81, 'rating': 5.9, 'votes': 81, 'budget': 0, 'revenue': 0, 'language': 'English', 'production': 'Mainframe Entertainment'}, {'imdb_id': 2630134, 'title': 'Barbie in the Pink Shoes (2013)', 'date': '2013-02-14T00:00:00Z', 'genres': 'Animation', 'runtime': 75, 'rating': 5.4, 'votes': 51, 'budget': 0, 'revenue': 0, 'language': 'English', 'production': 'Mattel'}, {'imdb_id': 1314715, 'title': \"Barbie in 'A Christmas Carol' (2008)\", 'date': '2008-07-01T00:00:00Z', 'genres': 'Animation', 'runtime': 76, 'rating': 6.3, 'votes': 71, 'budget': 0, 'revenue': 4496912, 'language': 'English', 'production': 'Rainmaker Entertainment'}, {'imdb_id': 1398940, 'title': 'Barbie Presents: Thumbelina (2009)', 'date': '2009-02-24T00:00:00Z', 'genres': 'Animation', 'runtime': 75, 'rating': 5.6, 'votes': 68, 'budget': 0, 'revenue': 0, 'language': 'English', 'production': 'Rainmaker Entertainment'}, {'imdb_id': 1201561, 'title': 'Barbie Mariposa and Her Butterfly Fairy Friends (2008)', 'date': '2008-02-08T00:00:00Z', 'genres': 'Animation', 'runtime': 75, 'rating': 5.8, 'votes': 67, 'budget': 0, 'revenue': 0, 'language': 'English', 'production': None}, {'imdb_id': 1216515, 'title': 'Tinker Bell and the Great Fairy Rescue (2010)', 'date': '2010-08-13T00:00:00Z', 'genres': 'Animation', 'runtime': 76, 'rating': 7.0, 'votes': 225, 'budget': 0, 'revenue': 0, 'language': 'English', 'production': 'DisneyToon Studios'}, {'imdb_id': 823671, 'title': 'Tinker Bell (2008)', 'date': '2008-10-27T00:00:00Z', 'genres': 'Animation', 'runtime': 78, 'rating': 6.9, 'votes': 319, 'budget': 48000000, 'revenue': 0, 'language': 'English', 'production': 'DisneyToon Studios'}, {'imdb_id': 2096673, 'title': 'Inside Out (2015)', 'date': '2015-06-09T00:00:00Z', 'genres': 'Animation', 'runtime': 94, 'rating': 8.2, 'votes': 6737, 'budget': 175000000, 'revenue': 857611174, 'language': 'English', 'production': 'Walt Disney Pictures'}, {'imdb_id': 2709768, 'title': 'The Secret Life of Pets (2016)', 'date': '2016-06-18T00:00:00Z', 'genres': 'Animation', 'runtime': 87, 'rating': 6.6, 'votes': 3536, 'budget': 75000000, 'revenue': 875457937, 'language': 'English', 'production': 'Universal Pictures'}, {'imdb_id': 3183630, 'title': 'O Menino e o Mundo (2013)', 'date': '2013-01-17T00:00:00Z', 'genres': 'Animation', 'runtime': 80, 'rating': 7.6, 'votes': 69, 'budget': 0, 'revenue': 0, 'language': 'Portuguese', 'production': 'Filme de Papel'}, {'imdb_id': 2293640, 'title': 'Minions (2015)', 'date': '2015-06-17T00:00:00Z', 'genres': 'Animation', 'runtime': 91, 'rating': 6.4, 'votes': 4729, 'budget': 74000000, 'revenue': 1156730962, 'language': 'English', 'production': 'Universal Pictures'}, {'imdb_id': 1979388, 'title': 'The Good Dinosaur (2015)', 'date': '2015-11-14T00:00:00Z', 'genres': 'Animation', 'runtime': 93, 'rating': 6.8, 'votes': 1782, 'budget': 175000000, 'revenue': 331926147, 'language': 'English', 'production': 'Walt Disney Pictures'}, {'imdb_id': 1260502, 'title': 'KÌ«kaku kidÌ«tai 2.0 (2008)', 'date': '2008-07-12T00:00:00Z', 'genres': 'Animation', 'runtime': 85, 'rating': 8.0, 'votes': 117, 'budget': 0, 'revenue': 0, 'language': 'Japanese', 'production': 'Production I.G.'}, {'imdb_id': 1980162, 'title': 'Kung Fu Panda: Secrets of the Masters (2011)', 'date': '2011-12-12T00:00:00Z', 'genres': 'Animation', 'runtime': 24, 'rating': 6.9, 'votes': 67, 'budget': 0, 'revenue': 0, 'language': 'English', 'production': 'DreamWorks Animation'}, {'imdb_id': 2290828, 'title': 'Road to Ninja: Naruto the Movie (2012)', 'date': '2012-07-28T00:00:00Z', 'genres': 'Animation', 'runtime': 109, 'rating': 7.8, 'votes': 81, 'budget': 0, 'revenue': 17322136, 'language': 'Japanese', 'production': 'Dentsu Inc.'}, {'imdb_id': 3819668, 'title': \"Dragon Ball Z: Doragon bÌ«ru Z - Fukkatsu no 'F' (2015)\", 'date': '2015-04-18T00:00:00Z', 'genres': 'Animation', 'runtime': 93, 'rating': 7.4, 'votes': 377, 'budget': 5000000, 'revenue': 61768190, 'language': 'Japanese', 'production': 'Toei Animation'}, {'imdb_id': 4324302, 'title': 'Justice League: Gods and Monsters (2015)', 'date': '2015-07-28T00:00:00Z', 'genres': 'Animation', 'runtime': 76, 'rating': 7.1, 'votes': 151, 'budget': 0, 'revenue': 0, 'language': 'English', 'production': 'Warner Bros. Animation'}, {'imdb_id': 3689498, 'title': 'Feast (2014)', 'date': '2014-11-07T00:00:00Z', 'genres': 'Animation', 'runtime': 6, 'rating': 8.3, 'votes': 420, 'budget': 0, 'revenue': 0, 'language': 'English', 'production': 'Walt Disney Pictures'}, {'imdb_id': 2980736, 'title': 'Dragon Ball: Episode of Bardock (2011)', 'date': '2011-12-17T00:00:00Z', 'genres': 'Animation', 'runtime': 20, 'rating': 7.7, 'votes': 64, 'budget': 0, 'revenue': 0, 'language': 'Japanese', 'production': 'Toei Animation'}, {'imdb_id': 3411432, 'title': 'All Creatures Big and Small (2015)', 'date': '2015-04-09T00:00:00Z', 'genres': 'Animation', 'runtime': 85, 'rating': 5.8, 'votes': 71, 'budget': 6000000, 'revenue': 0, 'language': 'English', 'production': 'Skyline Entertainment'}, {'imdb_id': 2401878, 'title': 'Anomalisa (2015)', 'date': '2015-12-30T00:00:00Z', 'genres': 'Animation', 'runtime': 90, 'rating': 7.2, 'votes': 472, 'budget': 8000000, 'revenue': 5659286, 'language': 'English', 'production': 'Starburns Industries'}, {'imdb_id': 3824386, 'title': 'Lava (2014)', 'date': '2014-06-21T00:00:00Z', 'genres': 'Animation', 'runtime': 7, 'rating': 7.1, 'votes': 405, 'budget': 0, 'revenue': 0, 'language': 'English', 'production': 'Pixar Animation Studios'}, {'imdb_id': 940656, 'title': 'Arthur 3: la guerre des deux mondes (2010)', 'date': '2010-08-22T00:00:00Z', 'genres': 'Animation', 'runtime': 101, 'rating': 5.5, 'votes': 371, 'budget': 70200000, 'revenue': 0, 'language': 'English', 'production': 'Apipoulaï'}, {'imdb_id': 3781476, 'title': 'Zhuo yao ji (2015)', 'date': '2015-07-16T00:00:00Z', 'genres': 'Animation', 'runtime': 111, 'rating': 6.2, 'votes': 81, 'budget': 40000000, 'revenue': 385284817, 'language': 'Chinese', 'production': 'Edko Films'}, {'imdb_id': 2704454, 'title': 'Little Witch Academia (2013)', 'date': '2013-03-02T00:00:00Z', 'genres': 'Animation', 'runtime': 26, 'rating': 7.3, 'votes': 62, 'budget': 480000, 'revenue': 0, 'language': 'Japanese', 'production': 'Trigger'}, {'imdb_id': 2510894, 'title': 'Hotel Transylvania 2 (2015)', 'date': '2015-09-21T00:00:00Z', 'genres': 'Animation', 'runtime': 89, 'rating': 6.7, 'votes': 1528, 'budget': 80000000, 'revenue': 473226958, 'language': 'English', 'production': 'Columbia Pictures'}, {'imdb_id': 1754656, 'title': 'The Little Prince (2015)', 'date': '2015-07-29T00:00:00Z', 'genres': 'Animation', 'runtime': 92, 'rating': 7.8, 'votes': 771, 'budget': 64000000, 'revenue': 97571250, 'language': 'English', 'production': 'Onyx Films'}, {'imdb_id': 3858372, 'title': 'Mune: Guardian of the Moon (2014)', 'date': '2014-02-05T00:00:00Z', 'genres': 'Animation', 'runtime': 86, 'rating': 7.3, 'votes': 97, 'budget': 0, 'revenue': 15730665, 'language': 'French', 'production': 'Onyx Films'}, {'imdb_id': 2452042, 'title': 'The Peanuts Movie (2015)', 'date': '2015-11-05T00:00:00Z', 'genres': 'Animation', 'runtime': 88, 'rating': 7.1, 'votes': 608, 'budget': 99000000, 'revenue': 246233113, 'language': 'English', 'production': 'Blue Sky Studios'}, {'imdb_id': 4272866, 'title': 'Bakemono no ko (2015)', 'date': '2015-07-11T00:00:00Z', 'genres': 'Animation', 'runtime': 119, 'rating': 7.7, 'votes': 304, 'budget': 0, 'revenue': 490643, 'language': 'Japanese', 'production': 'Toho Company'}, {'imdb_id': 2065968, 'title': 'Dragons: Gift of the Night Fury (2011)', 'date': '2011-11-15T00:00:00Z', 'genres': 'Animation', 'runtime': 22, 'rating': 7.7, 'votes': 126, 'budget': 0, 'revenue': 0, 'language': 'English', 'production': 'DreamWorks Animation'}, {'imdb_id': 4661600, 'title': \"Sanjay's Super Team (2015)\", 'date': '2015-11-25T00:00:00Z', 'genres': 'Animation', 'runtime': 7, 'rating': 7.0, 'votes': 74, 'budget': 0, 'revenue': 0, 'language': 'English', 'production': 'Pixar Animation Studios'}, {'imdb_id': 4644382, 'title': 'Xi you ji zhi da sheng gui lai (2015)', 'date': '2015-07-10T00:00:00Z', 'genres': 'Animation', 'runtime': 89, 'rating': 7.2, 'votes': 58, 'budget': 10000000, 'revenue': 150000000, 'language': 'Chinese', 'production': 'Hengdian Chinese Film Production Co.'}, {'imdb_id': 4171032, 'title': 'World of Tomorrow (2015)', 'date': '2015-03-31T00:00:00Z', 'genres': 'Animation', 'runtime': 17, 'rating': 8.2, 'votes': 100, 'budget': 0, 'revenue': 0, 'language': 'English', 'production': 'Bitter Films'}, {'imdb_id': 4938602, 'title': 'The Lion Guard: Return of the Roar (2015)', 'date': '2015-11-22T00:00:00Z', 'genres': 'Animation', 'runtime': 44, 'rating': 5.8, 'votes': 62, 'budget': 0, 'revenue': 0, 'language': 'English', 'production': 'Walt Disney Television Animation'}, {'imdb_id': 2267968, 'title': 'Kung Fu Panda 3 (2016)', 'date': '2016-01-23T00:00:00Z', 'genres': 'Animation', 'runtime': 95, 'rating': 7.2, 'votes': 1630, 'budget': 145000000, 'revenue': 521170825, 'language': 'English', 'production': 'Twentieth Century Fox Film Corporation'}, {'imdb_id': 4618398, 'title': 'Boruto: Naruto the Movie (2015)', 'date': '2015-08-07T00:00:00Z', 'genres': 'Animation', 'runtime': 100, 'rating': 8.2, 'votes': 162, 'budget': 0, 'revenue': 0, 'language': 'Japanese', 'production': 'Studio Pierrot'}, {'imdb_id': 3717532, 'title': 'The Last: Naruto the Movie (2014)', 'date': '2014-12-06T00:00:00Z', 'genres': 'Animation', 'runtime': 114, 'rating': 7.8, 'votes': 154, 'budget': 0, 'revenue': 0, 'language': 'Japanese', 'production': 'Aniplex'}, {'imdb_id': 2141773, 'title': 'Hell and Back (2015)', 'date': '2015-10-02T00:00:00Z', 'genres': 'Animation', 'runtime': 86, 'rating': 5.3, 'votes': 79, 'budget': 0, 'revenue': 157768, 'language': 'English', 'production': 'Freestyle Releasing'}, {'imdb_id': 1594972, 'title': 'Norm of the North (2016)', 'date': '2016-01-14T00:00:00Z', 'genres': 'Animation', 'runtime': 86, 'rating': 3.7, 'votes': 124, 'budget': 18000000, 'revenue': 17062499, 'language': 'English', 'production': 'Lionsgate'}, {'imdb_id': 4870838, 'title': 'Batman: Bad Blood (2016)', 'date': '2016-03-22T00:00:00Z', 'genres': 'Animation', 'runtime': 72, 'rating': 6.8, 'votes': 186, 'budget': 3500000, 'revenue': 0, 'language': 'English', 'production': 'DC Comics'}, {'imdb_id': 3422078, 'title': 'Avril et le monde truquÌ© (2015)', 'date': '2015-11-04T00:00:00Z', 'genres': 'Animation', 'runtime': 103, 'rating': 7.4, 'votes': 67, 'budget': 0, 'revenue': 0, 'language': 'French', 'production': 'StudioCanal'}, {'imdb_id': 2948356, 'title': 'Zootopia (2016)', 'date': '2016-02-11T00:00:00Z', 'genres': 'Animation', 'runtime': 108, 'rating': 8.1, 'votes': 4961, 'budget': 150000000, 'revenue': 1023784195, 'language': 'English', 'production': 'Walt Disney Pictures'}, {'imdb_id': 3896100, 'title': 'Atrapa la bandera (2015)', 'date': '2015-08-28T00:00:00Z', 'genres': 'Animation', 'runtime': 94, 'rating': 5.9, 'votes': 52, 'budget': 14000000, 'revenue': 8306690, 'language': 'Spanish', 'production': 'Lightbox Entertainment'}, {'imdb_id': 4938374, 'title': 'Open Season: Scared Silly (2015)', 'date': '2015-12-31T00:00:00Z', 'genres': 'Animation', 'runtime': 85, 'rating': 5.2, 'votes': 57, 'budget': 0, 'revenue': 0, 'language': 'English', 'production': 'Sony Pictures Animation'}, {'imdb_id': 5091548, 'title': 'Justice League vs. Teen Titans (2016)', 'date': '2016-03-29T00:00:00Z', 'genres': 'Animation', 'runtime': 78, 'rating': 7.0, 'votes': 177, 'budget': 0, 'revenue': 0, 'language': 'English', 'production': 'DC Comics'}, {'imdb_id': 5480340, 'title': 'Ice Age: The Great Egg-Scapade (2016)', 'date': '2016-03-20T00:00:00Z', 'genres': 'Animation', 'runtime': 25, 'rating': 5.9, 'votes': 92, 'budget': 0, 'revenue': 0, 'language': 'English', 'production': 'Blue Sky Studios'}, {'imdb_id': 2277860, 'title': 'Finding Dory (2016)', 'date': '2016-06-16T00:00:00Z', 'genres': 'Animation', 'runtime': 97, 'rating': 7.4, 'votes': 4333, 'budget': 200000000, 'revenue': 1028570889, 'language': 'English', 'production': 'Walt Disney Pictures'}, {'imdb_id': 1985949, 'title': 'Angry Birds (2016)', 'date': '2016-05-11T00:00:00Z', 'genres': 'Animation', 'runtime': 97, 'rating': 6.3, 'votes': 1048, 'budget': 73000000, 'revenue': 349779543, 'language': 'English', 'production': 'Columbia Pictures'}, {'imdb_id': 2865120, 'title': 'Ratchet & Clank (2016)', 'date': '2016-04-13T00:00:00Z', 'genres': 'Animation', 'runtime': 94, 'rating': 5.6, 'votes': 188, 'budget': 20000000, 'revenue': 8821329, 'language': 'English', 'production': 'Rainmaker Entertainment'}, {'imdb_id': 2974918, 'title': 'Alvin and the Chipmunks: The Road Chip (2015)', 'date': '2015-12-17T00:00:00Z', 'genres': 'Animation', 'runtime': 92, 'rating': 5.1, 'votes': 438, 'budget': 0, 'revenue': 233755553, 'language': 'English', 'production': 'Regency Enterprises'}, {'imdb_id': 1700841, 'title': 'Sausage Party (2016)', 'date': '2016-07-11T00:00:00Z', 'genres': 'Animation', 'runtime': 83, 'rating': 6.3, 'votes': 2310, 'budget': 19000000, 'revenue': 140705322, 'language': 'English', 'production': 'Columbia Pictures'}, {'imdb_id': 3416828, 'title': 'Ice Age: Collision Course (2016)', 'date': '2016-06-23T00:00:00Z', 'genres': 'Animation', 'runtime': 100, 'rating': 5.7, 'votes': 1170, 'budget': 105000000, 'revenue': 408579038, 'language': 'English', 'production': 'Blue Sky Studios'}, {'imdb_id': 5613056, 'title': 'Piper (2016)', 'date': '2016-06-16T00:00:00Z', 'genres': 'Animation', 'runtime': 6, 'rating': 8.5, 'votes': 487, 'budget': 0, 'revenue': 0, 'language': 'English', 'production': 'Pixar Animation Studios'}, {'imdb_id': 3666024, 'title': 'La tortue rouge (2016)', 'date': '2016-06-29T00:00:00Z', 'genres': 'Animation', 'runtime': 80, 'rating': 7.6, 'votes': 241, 'budget': 0, 'revenue': 921974, 'language': 'French', 'production': 'Why Not Productions'}, {'imdb_id': 4853102, 'title': 'Batman: The Killing Joke (2016)', 'date': '2016-07-21T00:00:00Z', 'genres': 'Animation', 'runtime': 72, 'rating': 6.5, 'votes': 485, 'budget': 3500000, 'revenue': 3775000, 'language': 'English', 'production': 'DC Comics'}, {'imdb_id': 5595168, 'title': 'Kingsglaive: Final Fantasy XV (2016)', 'date': '2016-07-09T00:00:00Z', 'genres': 'Animation', 'runtime': 115, 'rating': 6.9, 'votes': 201, 'budget': 0, 'revenue': 269980, 'language': 'Japanese', 'production': 'Square Enix'}, {'imdb_id': 4731008, 'title': 'The Wild Life (2016)', 'date': '2016-02-04T00:00:00Z', 'genres': 'Animation', 'runtime': 90, 'rating': 5.3, 'votes': 85, 'budget': 13500000, 'revenue': 3342697, 'language': 'German', 'production': 'StudioCanal'}, {'imdb_id': 4302938, 'title': 'Kubo and the Two Strings (2016)', 'date': '2016-08-18T00:00:00Z', 'genres': 'Animation', 'runtime': 102, 'rating': 7.9, 'votes': 982, 'budget': 60000000, 'revenue': 69929545, 'language': 'English', 'production': 'Laika Entertainment'}, {'imdb_id': 5311514, 'title': 'Kimi no na wa (2016)', 'date': '2016-08-26T00:00:00Z', 'genres': 'Animation', 'runtime': 106, 'rating': 8.6, 'votes': 1030, 'budget': 0, 'revenue': 355298270, 'language': 'Japanese', 'production': 'CoMix Wave Films'}, {'imdb_id': 4624424, 'title': 'Storks (2016)', 'date': '2016-09-22T00:00:00Z', 'genres': 'Animation', 'runtime': 87, 'rating': 6.9, 'votes': 706, 'budget': 70000000, 'revenue': 182379278, 'language': 'English', 'production': 'Warner Bros. Animation'}, {'imdb_id': 2321405, 'title': 'My Life as a Zucchini (2016)', 'date': '2016-10-12T00:00:00Z', 'genres': 'Animation', 'runtime': 66, 'rating': 7.9, 'votes': 215, 'budget': 8000000, 'revenue': 292279, 'language': 'French', 'production': 'Gébéka Films'}, {'imdb_id': 3682556, 'title': 'The Present (2014)', 'date': '2014-04-22T00:00:00Z', 'genres': 'Animation', 'runtime': 4, 'rating': 7.6, 'votes': 52, 'budget': 0, 'revenue': 0, 'language': 'English', 'production': None}, {'imdb_id': 1679335, 'title': 'Trolls (2016)', 'date': '2016-10-13T00:00:00Z', 'genres': 'Animation', 'runtime': 92, 'rating': 6.5, 'votes': 1054, 'budget': 125000000, 'revenue': 346864462, 'language': 'English', 'production': 'Twentieth Century Fox Film Corporation'}]\n"
     ]
    }
   ],
   "source": [
    "result_dict_list = result.to_dict(orient='records')\n",
    "print(result_dict_list)"
   ]
  },
  {
   "cell_type": "code",
   "execution_count": 33,
   "id": "2d636976-6a90-4fdc-a523-fc82f06ab6ad",
   "metadata": {
    "scrolled": true
   },
   "outputs": [
    {
     "name": "stderr",
     "output_type": "stream",
     "text": [
      "/opt/anaconda3/lib/python3.11/site-packages/langchain_core/_api/deprecation.py:117: LangChainDeprecationWarning: The function `initialize_agent` was deprecated in LangChain 0.1.0 and will be removed in 0.2.0. Use Use new agent constructor methods like create_react_agent, create_json_agent, create_structured_chat_agent, etc. instead.\n",
      "  def emit_warning() -> None:\n"
     ]
    },
    {
     "ename": "AttributeError",
     "evalue": "'list' object has no attribute 'is_single_input'",
     "output_type": "error",
     "traceback": [
      "\u001b[0;31m---------------------------------------------------------------------------\u001b[0m",
      "\u001b[0;31mAttributeError\u001b[0m                            Traceback (most recent call last)",
      "Cell \u001b[0;32mIn[33], line 85\u001b[0m\n\u001b[1;32m     72\u001b[0m agent_kwargs \u001b[38;5;241m=\u001b[39m {\n\u001b[1;32m     73\u001b[0m     \u001b[38;5;124m'\u001b[39m\u001b[38;5;124mprefix\u001b[39m\u001b[38;5;124m'\u001b[39m: \u001b[38;5;124mf\u001b[39m\u001b[38;5;124m\"\"\"\u001b[39m\n\u001b[1;32m     74\u001b[0m \u001b[38;5;124m    Your task is to generate interactive and visually appealing Chart.js code based on a provided string of SQL query \u001b[39m\u001b[38;5;132;01m{\u001b[39;00msql_query\u001b[38;5;132;01m}\u001b[39;00m\u001b[38;5;124m.\u001b[39m\n\u001b[0;32m   (...)\u001b[0m\n\u001b[1;32m     80\u001b[0m \u001b[38;5;124m    \u001b[39m\u001b[38;5;124m\"\"\"\u001b[39m\n\u001b[1;32m     81\u001b[0m }\n\u001b[1;32m     84\u001b[0m \u001b[38;5;66;03m# initialize the LLM agent\u001b[39;00m\n\u001b[0;32m---> 85\u001b[0m agent \u001b[38;5;241m=\u001b[39m initialize_agent(\n\u001b[1;32m     86\u001b[0m     tools, \n\u001b[1;32m     87\u001b[0m     llm, \n\u001b[1;32m     88\u001b[0m     agent\u001b[38;5;241m=\u001b[39mAgentType\u001b[38;5;241m.\u001b[39mZERO_SHOT_REACT_DESCRIPTION, \n\u001b[1;32m     89\u001b[0m     verbose\u001b[38;5;241m=\u001b[39m\u001b[38;5;28;01mTrue\u001b[39;00m, \n\u001b[1;32m     90\u001b[0m     agent_kwargs\u001b[38;5;241m=\u001b[39magent_kwargs\n\u001b[1;32m     91\u001b[0m )\n\u001b[1;32m     92\u001b[0m         \u001b[38;5;66;03m# define q and a function for frontend\u001b[39;00m\n\u001b[1;32m     93\u001b[0m \u001b[38;5;28;01mdef\u001b[39;00m \u001b[38;5;21mget_response\u001b[39m(user_input):\n",
      "File \u001b[0;32m/opt/anaconda3/lib/python3.11/site-packages/langchain_core/_api/deprecation.py:145\u001b[0m, in \u001b[0;36mwarning_emitting_wrapper\u001b[0;34m(*args, **kwargs)\u001b[0m\n\u001b[1;32m    135\u001b[0m \u001b[38;5;250m\u001b[39m\u001b[38;5;124;03m\"\"\"Wrapper for the original wrapped callable that emits a warning.\u001b[39;00m\n\u001b[1;32m    136\u001b[0m \n\u001b[1;32m    137\u001b[0m \u001b[38;5;124;03mArgs:\u001b[39;00m\n\u001b[0;32m   (...)\u001b[0m\n\u001b[1;32m    142\u001b[0m \u001b[38;5;124;03m    The return value of the function being wrapped.\u001b[39;00m\n\u001b[1;32m    143\u001b[0m \u001b[38;5;124;03m\"\"\"\u001b[39;00m\n\u001b[1;32m    144\u001b[0m \u001b[38;5;28;01mnonlocal\u001b[39;00m warned\n\u001b[0;32m--> 145\u001b[0m \u001b[38;5;28;01mif\u001b[39;00m \u001b[38;5;129;01mnot\u001b[39;00m warned \u001b[38;5;129;01mand\u001b[39;00m \u001b[38;5;129;01mnot\u001b[39;00m is_caller_internal():\n\u001b[1;32m    146\u001b[0m     warned \u001b[38;5;241m=\u001b[39m \u001b[38;5;28;01mTrue\u001b[39;00m\n\u001b[1;32m    147\u001b[0m     emit_warning()\n",
      "File \u001b[0;32m/opt/anaconda3/lib/python3.11/site-packages/langchain/agents/initialize.py:67\u001b[0m, in \u001b[0;36minitialize_agent\u001b[0;34m(tools, llm, agent, callback_manager, agent_path, agent_kwargs, tags, **kwargs)\u001b[0m\n\u001b[1;32m     65\u001b[0m     agent_cls \u001b[38;5;241m=\u001b[39m AGENT_TO_CLASS[agent]\n\u001b[1;32m     66\u001b[0m     agent_kwargs \u001b[38;5;241m=\u001b[39m agent_kwargs \u001b[38;5;129;01mor\u001b[39;00m {}\n\u001b[0;32m---> 67\u001b[0m     agent_obj \u001b[38;5;241m=\u001b[39m agent_cls\u001b[38;5;241m.\u001b[39mfrom_llm_and_tools(\n\u001b[1;32m     68\u001b[0m         llm, tools, callback_manager\u001b[38;5;241m=\u001b[39mcallback_manager, \u001b[38;5;241m*\u001b[39m\u001b[38;5;241m*\u001b[39magent_kwargs\n\u001b[1;32m     69\u001b[0m     )\n\u001b[1;32m     70\u001b[0m \u001b[38;5;28;01melif\u001b[39;00m agent_path \u001b[38;5;129;01mis\u001b[39;00m \u001b[38;5;129;01mnot\u001b[39;00m \u001b[38;5;28;01mNone\u001b[39;00m:\n\u001b[1;32m     71\u001b[0m     agent_obj \u001b[38;5;241m=\u001b[39m load_agent(\n\u001b[1;32m     72\u001b[0m         agent_path, llm\u001b[38;5;241m=\u001b[39mllm, tools\u001b[38;5;241m=\u001b[39mtools, callback_manager\u001b[38;5;241m=\u001b[39mcallback_manager\n\u001b[1;32m     73\u001b[0m     )\n",
      "File \u001b[0;32m/opt/anaconda3/lib/python3.11/site-packages/langchain/agents/mrkl/base.py:105\u001b[0m, in \u001b[0;36mZeroShotAgent.from_llm_and_tools\u001b[0;34m(cls, llm, tools, callback_manager, output_parser, prefix, suffix, format_instructions, input_variables, **kwargs)\u001b[0m\n\u001b[1;32m     91\u001b[0m \u001b[38;5;129m@classmethod\u001b[39m\n\u001b[1;32m     92\u001b[0m \u001b[38;5;28;01mdef\u001b[39;00m \u001b[38;5;21mfrom_llm_and_tools\u001b[39m(\n\u001b[1;32m     93\u001b[0m     \u001b[38;5;28mcls\u001b[39m,\n\u001b[0;32m   (...)\u001b[0m\n\u001b[1;32m    102\u001b[0m     \u001b[38;5;241m*\u001b[39m\u001b[38;5;241m*\u001b[39mkwargs: Any,\n\u001b[1;32m    103\u001b[0m ) \u001b[38;5;241m-\u001b[39m\u001b[38;5;241m>\u001b[39m Agent:\n\u001b[1;32m    104\u001b[0m \u001b[38;5;250m    \u001b[39m\u001b[38;5;124;03m\"\"\"Construct an agent from an LLM and tools.\"\"\"\u001b[39;00m\n\u001b[0;32m--> 105\u001b[0m     \u001b[38;5;28mcls\u001b[39m\u001b[38;5;241m.\u001b[39m_validate_tools(tools)\n\u001b[1;32m    106\u001b[0m     prompt \u001b[38;5;241m=\u001b[39m \u001b[38;5;28mcls\u001b[39m\u001b[38;5;241m.\u001b[39mcreate_prompt(\n\u001b[1;32m    107\u001b[0m         tools,\n\u001b[1;32m    108\u001b[0m         prefix\u001b[38;5;241m=\u001b[39mprefix,\n\u001b[0;32m   (...)\u001b[0m\n\u001b[1;32m    111\u001b[0m         input_variables\u001b[38;5;241m=\u001b[39minput_variables,\n\u001b[1;32m    112\u001b[0m     )\n\u001b[1;32m    113\u001b[0m     llm_chain \u001b[38;5;241m=\u001b[39m LLMChain(  \u001b[38;5;66;03m# type: ignore[misc]\u001b[39;00m\n\u001b[1;32m    114\u001b[0m         llm\u001b[38;5;241m=\u001b[39mllm,\n\u001b[1;32m    115\u001b[0m         prompt\u001b[38;5;241m=\u001b[39mprompt,\n\u001b[1;32m    116\u001b[0m         callback_manager\u001b[38;5;241m=\u001b[39mcallback_manager,\n\u001b[1;32m    117\u001b[0m     )\n",
      "File \u001b[0;32m/opt/anaconda3/lib/python3.11/site-packages/langchain/agents/mrkl/base.py:129\u001b[0m, in \u001b[0;36mZeroShotAgent._validate_tools\u001b[0;34m(cls, tools)\u001b[0m\n\u001b[1;32m    127\u001b[0m \u001b[38;5;129m@classmethod\u001b[39m\n\u001b[1;32m    128\u001b[0m \u001b[38;5;28;01mdef\u001b[39;00m \u001b[38;5;21m_validate_tools\u001b[39m(\u001b[38;5;28mcls\u001b[39m, tools: Sequence[BaseTool]) \u001b[38;5;241m-\u001b[39m\u001b[38;5;241m>\u001b[39m \u001b[38;5;28;01mNone\u001b[39;00m:\n\u001b[0;32m--> 129\u001b[0m     validate_tools_single_input(\u001b[38;5;28mcls\u001b[39m\u001b[38;5;241m.\u001b[39m\u001b[38;5;18m__name__\u001b[39m, tools)\n\u001b[1;32m    130\u001b[0m     \u001b[38;5;28;01mif\u001b[39;00m \u001b[38;5;28mlen\u001b[39m(tools) \u001b[38;5;241m==\u001b[39m \u001b[38;5;241m0\u001b[39m:\n\u001b[1;32m    131\u001b[0m         \u001b[38;5;28;01mraise\u001b[39;00m \u001b[38;5;167;01mValueError\u001b[39;00m(\n\u001b[1;32m    132\u001b[0m             \u001b[38;5;124mf\u001b[39m\u001b[38;5;124m\"\u001b[39m\u001b[38;5;124mGot no tools for \u001b[39m\u001b[38;5;132;01m{\u001b[39;00m\u001b[38;5;28mcls\u001b[39m\u001b[38;5;241m.\u001b[39m\u001b[38;5;18m__name__\u001b[39m\u001b[38;5;132;01m}\u001b[39;00m\u001b[38;5;124m. At least one tool must be provided.\u001b[39m\u001b[38;5;124m\"\u001b[39m\n\u001b[1;32m    133\u001b[0m         )\n",
      "File \u001b[0;32m/opt/anaconda3/lib/python3.11/site-packages/langchain/agents/utils.py:9\u001b[0m, in \u001b[0;36mvalidate_tools_single_input\u001b[0;34m(class_name, tools)\u001b[0m\n\u001b[1;32m      7\u001b[0m \u001b[38;5;250m\u001b[39m\u001b[38;5;124;03m\"\"\"Validate tools for single input.\"\"\"\u001b[39;00m\n\u001b[1;32m      8\u001b[0m \u001b[38;5;28;01mfor\u001b[39;00m tool \u001b[38;5;129;01min\u001b[39;00m tools:\n\u001b[0;32m----> 9\u001b[0m     \u001b[38;5;28;01mif\u001b[39;00m \u001b[38;5;129;01mnot\u001b[39;00m tool\u001b[38;5;241m.\u001b[39mis_single_input:\n\u001b[1;32m     10\u001b[0m         \u001b[38;5;28;01mraise\u001b[39;00m \u001b[38;5;167;01mValueError\u001b[39;00m(\n\u001b[1;32m     11\u001b[0m             \u001b[38;5;124mf\u001b[39m\u001b[38;5;124m\"\u001b[39m\u001b[38;5;132;01m{\u001b[39;00mclass_name\u001b[38;5;132;01m}\u001b[39;00m\u001b[38;5;124m does not support multi-input tool \u001b[39m\u001b[38;5;132;01m{\u001b[39;00mtool\u001b[38;5;241m.\u001b[39mname\u001b[38;5;132;01m}\u001b[39;00m\u001b[38;5;124m.\u001b[39m\u001b[38;5;124m\"\u001b[39m\n\u001b[1;32m     12\u001b[0m         )\n",
      "\u001b[0;31mAttributeError\u001b[0m: 'list' object has no attribute 'is_single_input'"
     ]
    }
   ],
   "source": [
    "from langchain.chat_models import ChatOpenAI\n",
    "# from langchain.tools import Tool\n",
    "from langchain.agents import initialize_agent\n",
    "from langchain_experimental.agents.agent_toolkits import create_python_agent\n",
    "from langchain_experimental.tools import PythonREPLTool\n",
    "# from langchain.tools.python.tool import PythonAstREPLTool\n",
    "from langchain.agents import initialize_agent, Tool\n",
    "from langchain.agents import AgentType\n",
    "\n",
    "llm = ChatOpenAI(    \n",
    "    openai_api_key=os.getenv('OPENAI_API_KEY'), \n",
    "    model_name=\"gpt-3.5-turbo-0125\", \n",
    "    temperature=0.0\n",
    ")\n",
    "python_agent = create_python_agent(llm, tool=PythonREPLTool(), verbose=True)\n",
    "\n",
    "python = PythonREPLTool(locals={\"df\": df})\n",
    "\n",
    "sql_query = response\n",
    "\n",
    "# llm_chain = LLMChain(\n",
    "#     llm=llm,\n",
    "#     prompt=PromptTemplate.from_template(prompt_template)\n",
    "# )\n",
    "\n",
    "# def generate_js(sql_query):\n",
    "\n",
    "df_columns = df.columns.to_list()\n",
    "\n",
    "# prompt_template = f\"\"\"\n",
    "#     Your task is to generate interactive and visually appealing Chart.js code based on a provided string of SQL query {sql_query}.\n",
    "#     The dataset that you can run the SQL query using the PythonAgent function is provided as a tool. Based on the queried results and values, you are expected to further analyze the result to determine the appropriate type of chart (e.g., bar, line, pie) that best represents the data.\n",
    "#     Only return the Chart.js settings code in json format. The expected example output is the follwoing:\n",
    "#     '{{ type: 'pie', data: {{ labels: ['Label 1', 'Label 2', 'Label 3', 'Label 4', 'Label 5'], datasets: [ {{ data: [30, 20, 15, 10, 25], backgroundColor: [ 'rgba(255, 99, 132, 0.7)', 'rgba(54, 162, 235, 0.7)', 'rgba(255, 206, 86, 0.7)', 'rgba(75, 192, 192, 0.7)', 'rgba(153, 102, 255, 0.7)', ], }}, ], }}, options: {{ responsive: true, maintainAspectRatio: false, aspectRatio: 1, plugins: {{ legend: {{ display: true, position: 'top', }}, }}, }}, }})'\n",
    "#     Nothing else. YOU ARE TO ONLY RETURN CHART.JS CODE formatted correctly.\n",
    "# \"\"\"\n",
    "\n",
    "# messages = [{\n",
    "#     \"role\": \"system\",\n",
    "#     \"content\": \"Please generate the Chart.JS code in JSON format exclusively, avoiding any additional text or explanations.\",\n",
    "# },\n",
    "# {\n",
    "#     \"role\": \"user\",\n",
    "#     \"content\": prompt_template\n",
    "# }]\n",
    "\n",
    "tools=[\n",
    "    Tool(\n",
    "        name=\"PythonAgent\",\n",
    "        func=python_agent.run,\n",
    "        description=f\"\"\"\n",
    "        When you need to see the queried results and values from the data stored in pandas dataframe 'df'. \n",
    "        Run python pandas operations, such as 'sqldf({sql_query})' on 'df' to help you get the right answer. \n",
    "        The 'df' has the following columns: {df_columns}\n",
    "        \"\"\",\n",
    "    ),\n",
    "],\n",
    "\n",
    "# stream = client.chat.completions.create(\n",
    "#     tools=tools,\n",
    "#     model=\"gpt-3.5-turbo-0125\",\n",
    "#     messages=messages,\n",
    "#     max_tokens=500,\n",
    "#     temperature=0.5,\n",
    "#     frequency_penalty=0,\n",
    "#     presence_penalty=0,\n",
    "#     response_format={ \"type\": \"json_object\" }\n",
    "# )\n",
    "# return json.loads(stream.choices[0].message.content)\n",
    "# return stream.choices[0].message.content\n",
    "\n",
    "agent_kwargs = {\n",
    "    'prefix': f\"\"\"\n",
    "    Your task is to generate interactive and visually appealing Chart.js code based on a provided string of SQL query {sql_query}.\n",
    "    The dataset that you can run the SQL query using the PythonAgent function is provided as a tool. Based on the queried results and values, you are expected to further analyze the result to determine the appropriate type of chart (e.g., bar, line, pie) that best represents the data.\n",
    "    Only return the Chart.js settings code in json format. The expected example output is the follwoing:\n",
    "    '{{ type: 'pie', data: {{ labels: ['Label 1', 'Label 2', 'Label 3', 'Label 4', 'Label 5'], datasets: [ {{ data: [30, 20, 15, 10, 25], backgroundColor: [ 'rgba(255, 99, 132, 0.7)', 'rgba(54, 162, 235, 0.7)', 'rgba(255, 206, 86, 0.7)', 'rgba(75, 192, 192, 0.7)', 'rgba(153, 102, 255, 0.7)', ], }}, ], }}, options: {{ responsive: true, maintainAspectRatio: false, aspectRatio: 1, plugins: {{ legend: {{ display: true, position: 'top', }}, }}, }}, }})'\n",
    "    Nothing else. YOU ARE TO ONLY RETURN CHART.JS CODE formatted correctly.\n",
    "    You have access to the following tools:\n",
    "    \"\"\"\n",
    "}\n",
    "\n",
    "\n",
    "# initialize the LLM agent\n",
    "agent = initialize_agent(\n",
    "    tools, \n",
    "    llm, \n",
    "    agent=AgentType.ZERO_SHOT_REACT_DESCRIPTION, \n",
    "    verbose=True, \n",
    "    agent_kwargs=agent_kwargs\n",
    ")\n",
    "        # define q and a function for frontend\n",
    "def get_response(user_input):\n",
    "    response = agent.run(user_input)\n",
    "    return response"
   ]
  },
  {
   "cell_type": "code",
   "execution_count": 50,
   "id": "3d06ba88-79ea-4c8b-b927-63f1409edec6",
   "metadata": {},
   "outputs": [],
   "source": [
    "def get_response(user_input):\n",
    "    python_agent = create_python_agent(llm, tool=PythonREPLTool(), verbose=True)\n",
    "    python = PythonREPLTool(locals={\"df\": df})\n",
    "    sql_query = user_input\n",
    "    df_columns = df.columns.to_list()\n",
    "    \n",
    "    tools = [Tool(\n",
    "        name=\"PythonAgent\",\n",
    "        func=python_agent.run,\n",
    "        description=f\"\"\"\n",
    "        When you need to see the queried results and values from the data stored in pandas dataframe 'df'. \n",
    "        Run python pandas operations, such as 'sqldf({sql_query})' on 'df' to help you get the right answer. \n",
    "        The 'df' has the following columns: {df_columns}\n",
    "        \"\"\",\n",
    "    )]\n",
    "    \n",
    "    agent_kwargs = {\n",
    "        'prefix': f\"\"\"\n",
    "        Your task is to generate interactive and visually appealing Chart.js code based on a provided string of SQL query {sql_query}.\n",
    "        The dataset that you can run the SQL query using the PythonAgent function is provided as a tool. Based on the queried results and values, you are expected to further analyze the result to determine the appropriate type of chart (e.g., bar, line, pie) that best represents the data.\n",
    "        Only return the Chart.js settings code in json format. The expected example output is the follwoing:\n",
    "        '{{ type: 'pie', data: {{ labels: ['Label 1', 'Label 2', 'Label 3', 'Label 4', 'Label 5'], datasets: [ {{ data: [30, 20, 15, 10, 25], backgroundColor: [ 'rgba(255, 99, 132, 0.7)', 'rgba(54, 162, 235, 0.7)', 'rgba(255, 206, 86, 0.7)', 'rgba(75, 192, 192, 0.7)', 'rgba(153, 102, 255, 0.7)', ], }}, ], }}, options: {{ responsive: true, maintainAspectRatio: false, aspectRatio: 1, plugins: {{ legend: {{ display: true, position: 'top', }}, }}, }}, }})'\n",
    "        Nothing else. YOU ARE TO ONLY RETURN CHART.JS CODE formatted correctly.\n",
    "        You have access to the following tools:\n",
    "        \"\"\"\n",
    "    }\n",
    "    \n",
    "    agent = initialize_agent(\n",
    "        tools, \n",
    "        llm, \n",
    "        agent=AgentType.ZERO_SHOT_REACT_DESCRIPTION, \n",
    "        verbose=True, \n",
    "        agent_kwargs=agent_kwargs\n",
    "    )\n",
    "    response = agent.run(input=user_input)  # Provide the required input key\n",
    "    return response"
   ]
  },
  {
   "cell_type": "code",
   "execution_count": 51,
   "id": "71a980af-3219-4378-9af8-d1450ca87144",
   "metadata": {},
   "outputs": [
    {
     "name": "stdout",
     "output_type": "stream",
     "text": [
      "SELECT * \n",
      "FROM df\n",
      "WHERE date >= '2008-01-01' AND genres LIKE '%Animation%';\n"
     ]
    }
   ],
   "source": [
    "print(response)"
   ]
  },
  {
   "cell_type": "code",
   "execution_count": 52,
   "id": "a546e1c9-433c-4712-919c-526f0402f045",
   "metadata": {},
   "outputs": [
    {
     "name": "stdout",
     "output_type": "stream",
     "text": [
      "\n",
      "\n",
      "\u001b[1m> Entering new AgentExecutor chain...\u001b[0m\n"
     ]
    },
    {
     "ename": "ValueError",
     "evalue": "Missing some input keys: {' type', \"'input'\"}",
     "output_type": "error",
     "traceback": [
      "\u001b[0;31m---------------------------------------------------------------------------\u001b[0m",
      "\u001b[0;31mValueError\u001b[0m                                Traceback (most recent call last)",
      "Cell \u001b[0;32mIn[52], line 1\u001b[0m\n\u001b[0;32m----> 1\u001b[0m output \u001b[38;5;241m=\u001b[39m get_response({\u001b[38;5;124m\"\u001b[39m\u001b[38;5;124minput\u001b[39m\u001b[38;5;124m\"\u001b[39m: response})\n",
      "Cell \u001b[0;32mIn[50], line 35\u001b[0m, in \u001b[0;36mget_response\u001b[0;34m(user_input)\u001b[0m\n\u001b[1;32m     17\u001b[0m agent_kwargs \u001b[38;5;241m=\u001b[39m {\n\u001b[1;32m     18\u001b[0m     \u001b[38;5;124m'\u001b[39m\u001b[38;5;124mprefix\u001b[39m\u001b[38;5;124m'\u001b[39m: \u001b[38;5;124mf\u001b[39m\u001b[38;5;124m\"\"\"\u001b[39m\n\u001b[1;32m     19\u001b[0m \u001b[38;5;124m    Your task is to generate interactive and visually appealing Chart.js code based on a provided string of SQL query \u001b[39m\u001b[38;5;132;01m{\u001b[39;00msql_query\u001b[38;5;132;01m}\u001b[39;00m\u001b[38;5;124m.\u001b[39m\n\u001b[0;32m   (...)\u001b[0m\n\u001b[1;32m     25\u001b[0m \u001b[38;5;124m    \u001b[39m\u001b[38;5;124m\"\"\"\u001b[39m\n\u001b[1;32m     26\u001b[0m }\n\u001b[1;32m     28\u001b[0m agent \u001b[38;5;241m=\u001b[39m initialize_agent(\n\u001b[1;32m     29\u001b[0m     tools, \n\u001b[1;32m     30\u001b[0m     llm, \n\u001b[0;32m   (...)\u001b[0m\n\u001b[1;32m     33\u001b[0m     agent_kwargs\u001b[38;5;241m=\u001b[39magent_kwargs\n\u001b[1;32m     34\u001b[0m )\n\u001b[0;32m---> 35\u001b[0m response \u001b[38;5;241m=\u001b[39m agent\u001b[38;5;241m.\u001b[39mrun(\u001b[38;5;28minput\u001b[39m\u001b[38;5;241m=\u001b[39muser_input)  \u001b[38;5;66;03m# Provide the required input key\u001b[39;00m\n\u001b[1;32m     36\u001b[0m \u001b[38;5;28;01mreturn\u001b[39;00m response\n",
      "File \u001b[0;32m/opt/anaconda3/lib/python3.11/site-packages/langchain_core/_api/deprecation.py:145\u001b[0m, in \u001b[0;36mwarning_emitting_wrapper\u001b[0;34m(*args, **kwargs)\u001b[0m\n\u001b[1;32m    135\u001b[0m \u001b[38;5;250m\u001b[39m\u001b[38;5;124;03m\"\"\"Wrapper for the original wrapped callable that emits a warning.\u001b[39;00m\n\u001b[1;32m    136\u001b[0m \n\u001b[1;32m    137\u001b[0m \u001b[38;5;124;03mArgs:\u001b[39;00m\n\u001b[0;32m   (...)\u001b[0m\n\u001b[1;32m    142\u001b[0m \u001b[38;5;124;03m    The return value of the function being wrapped.\u001b[39;00m\n\u001b[1;32m    143\u001b[0m \u001b[38;5;124;03m\"\"\"\u001b[39;00m\n\u001b[1;32m    144\u001b[0m \u001b[38;5;28;01mnonlocal\u001b[39;00m warned\n\u001b[0;32m--> 145\u001b[0m \u001b[38;5;28;01mif\u001b[39;00m \u001b[38;5;129;01mnot\u001b[39;00m warned \u001b[38;5;129;01mand\u001b[39;00m \u001b[38;5;129;01mnot\u001b[39;00m is_caller_internal():\n\u001b[1;32m    146\u001b[0m     warned \u001b[38;5;241m=\u001b[39m \u001b[38;5;28;01mTrue\u001b[39;00m\n\u001b[1;32m    147\u001b[0m     emit_warning()\n",
      "File \u001b[0;32m/opt/anaconda3/lib/python3.11/site-packages/langchain/chains/base.py:550\u001b[0m, in \u001b[0;36mrun\u001b[0;34m(self, callbacks, tags, metadata, *args, **kwargs)\u001b[0m\n\u001b[1;32m    518\u001b[0m \u001b[38;5;129m@deprecated\u001b[39m(\u001b[38;5;124m\"\u001b[39m\u001b[38;5;124m0.1.0\u001b[39m\u001b[38;5;124m\"\u001b[39m, alternative\u001b[38;5;241m=\u001b[39m\u001b[38;5;124m\"\u001b[39m\u001b[38;5;124minvoke\u001b[39m\u001b[38;5;124m\"\u001b[39m, removal\u001b[38;5;241m=\u001b[39m\u001b[38;5;124m\"\u001b[39m\u001b[38;5;124m0.2.0\u001b[39m\u001b[38;5;124m\"\u001b[39m)\n\u001b[1;32m    519\u001b[0m \u001b[38;5;28;01mdef\u001b[39;00m \u001b[38;5;21mrun\u001b[39m(\n\u001b[1;32m    520\u001b[0m     \u001b[38;5;28mself\u001b[39m,\n\u001b[0;32m   (...)\u001b[0m\n\u001b[1;32m    525\u001b[0m     \u001b[38;5;241m*\u001b[39m\u001b[38;5;241m*\u001b[39mkwargs: Any,\n\u001b[1;32m    526\u001b[0m ) \u001b[38;5;241m-\u001b[39m\u001b[38;5;241m>\u001b[39m Any:\n\u001b[1;32m    527\u001b[0m \u001b[38;5;250m    \u001b[39m\u001b[38;5;124;03m\"\"\"Convenience method for executing chain.\u001b[39;00m\n\u001b[1;32m    528\u001b[0m \n\u001b[1;32m    529\u001b[0m \u001b[38;5;124;03m    The main difference between this method and `Chain.__call__` is that this\u001b[39;00m\n\u001b[1;32m    530\u001b[0m \u001b[38;5;124;03m    method expects inputs to be passed directly in as positional arguments or\u001b[39;00m\n\u001b[1;32m    531\u001b[0m \u001b[38;5;124;03m    keyword arguments, whereas `Chain.__call__` expects a single input dictionary\u001b[39;00m\n\u001b[1;32m    532\u001b[0m \u001b[38;5;124;03m    with all the inputs\u001b[39;00m\n\u001b[1;32m    533\u001b[0m \n\u001b[1;32m    534\u001b[0m \u001b[38;5;124;03m    Args:\u001b[39;00m\n\u001b[1;32m    535\u001b[0m \u001b[38;5;124;03m        *args: If the chain expects a single input, it can be passed in as the\u001b[39;00m\n\u001b[1;32m    536\u001b[0m \u001b[38;5;124;03m            sole positional argument.\u001b[39;00m\n\u001b[1;32m    537\u001b[0m \u001b[38;5;124;03m        callbacks: Callbacks to use for this chain run. These will be called in\u001b[39;00m\n\u001b[1;32m    538\u001b[0m \u001b[38;5;124;03m            addition to callbacks passed to the chain during construction, but only\u001b[39;00m\n\u001b[1;32m    539\u001b[0m \u001b[38;5;124;03m            these runtime callbacks will propagate to calls to other objects.\u001b[39;00m\n\u001b[1;32m    540\u001b[0m \u001b[38;5;124;03m        tags: List of string tags to pass to all callbacks. These will be passed in\u001b[39;00m\n\u001b[1;32m    541\u001b[0m \u001b[38;5;124;03m            addition to tags passed to the chain during construction, but only\u001b[39;00m\n\u001b[1;32m    542\u001b[0m \u001b[38;5;124;03m            these runtime tags will propagate to calls to other objects.\u001b[39;00m\n\u001b[1;32m    543\u001b[0m \u001b[38;5;124;03m        **kwargs: If the chain expects multiple inputs, they can be passed in\u001b[39;00m\n\u001b[1;32m    544\u001b[0m \u001b[38;5;124;03m            directly as keyword arguments.\u001b[39;00m\n\u001b[1;32m    545\u001b[0m \n\u001b[1;32m    546\u001b[0m \u001b[38;5;124;03m    Returns:\u001b[39;00m\n\u001b[1;32m    547\u001b[0m \u001b[38;5;124;03m        The chain output.\u001b[39;00m\n\u001b[1;32m    548\u001b[0m \n\u001b[1;32m    549\u001b[0m \u001b[38;5;124;03m    Example:\u001b[39;00m\n\u001b[0;32m--> 550\u001b[0m \u001b[38;5;124;03m        .. code-block:: python\u001b[39;00m\n\u001b[1;32m    551\u001b[0m \n\u001b[1;32m    552\u001b[0m \u001b[38;5;124;03m            # Suppose we have a single-input chain that takes a 'question' string:\u001b[39;00m\n\u001b[1;32m    553\u001b[0m \u001b[38;5;124;03m            chain.run(\"What's the temperature in Boise, Idaho?\")\u001b[39;00m\n\u001b[1;32m    554\u001b[0m \u001b[38;5;124;03m            # -> \"The temperature in Boise is...\"\u001b[39;00m\n\u001b[1;32m    555\u001b[0m \n\u001b[1;32m    556\u001b[0m \u001b[38;5;124;03m            # Suppose we have a multi-input chain that takes a 'question' string\u001b[39;00m\n\u001b[1;32m    557\u001b[0m \u001b[38;5;124;03m            # and 'context' string:\u001b[39;00m\n\u001b[1;32m    558\u001b[0m \u001b[38;5;124;03m            question = \"What's the temperature in Boise, Idaho?\"\u001b[39;00m\n\u001b[1;32m    559\u001b[0m \u001b[38;5;124;03m            context = \"Weather report for Boise, Idaho on 07/03/23...\"\u001b[39;00m\n\u001b[1;32m    560\u001b[0m \u001b[38;5;124;03m            chain.run(question=question, context=context)\u001b[39;00m\n\u001b[1;32m    561\u001b[0m \u001b[38;5;124;03m            # -> \"The temperature in Boise is...\"\u001b[39;00m\n\u001b[1;32m    562\u001b[0m \u001b[38;5;124;03m    \"\"\"\u001b[39;00m\n\u001b[1;32m    563\u001b[0m     \u001b[38;5;66;03m# Run at start to make sure this is possible/defined\u001b[39;00m\n\u001b[1;32m    564\u001b[0m     _output_key \u001b[38;5;241m=\u001b[39m \u001b[38;5;28mself\u001b[39m\u001b[38;5;241m.\u001b[39m_run_output_key\n",
      "File \u001b[0;32m/opt/anaconda3/lib/python3.11/site-packages/langchain_core/_api/deprecation.py:145\u001b[0m, in \u001b[0;36mwarning_emitting_wrapper\u001b[0;34m(*args, **kwargs)\u001b[0m\n\u001b[1;32m    135\u001b[0m \u001b[38;5;250m\u001b[39m\u001b[38;5;124;03m\"\"\"Wrapper for the original wrapped callable that emits a warning.\u001b[39;00m\n\u001b[1;32m    136\u001b[0m \n\u001b[1;32m    137\u001b[0m \u001b[38;5;124;03mArgs:\u001b[39;00m\n\u001b[0;32m   (...)\u001b[0m\n\u001b[1;32m    142\u001b[0m \u001b[38;5;124;03m    The return value of the function being wrapped.\u001b[39;00m\n\u001b[1;32m    143\u001b[0m \u001b[38;5;124;03m\"\"\"\u001b[39;00m\n\u001b[1;32m    144\u001b[0m \u001b[38;5;28;01mnonlocal\u001b[39;00m warned\n\u001b[0;32m--> 145\u001b[0m \u001b[38;5;28;01mif\u001b[39;00m \u001b[38;5;129;01mnot\u001b[39;00m warned \u001b[38;5;129;01mand\u001b[39;00m \u001b[38;5;129;01mnot\u001b[39;00m is_caller_internal():\n\u001b[1;32m    146\u001b[0m     warned \u001b[38;5;241m=\u001b[39m \u001b[38;5;28;01mTrue\u001b[39;00m\n\u001b[1;32m    147\u001b[0m     emit_warning()\n",
      "File \u001b[0;32m/opt/anaconda3/lib/python3.11/site-packages/langchain/chains/base.py:378\u001b[0m, in \u001b[0;36mChain.__call__\u001b[0;34m(self, inputs, return_only_outputs, callbacks, tags, metadata, run_name, include_run_info)\u001b[0m\n\u001b[1;32m    346\u001b[0m \u001b[38;5;250m\u001b[39m\u001b[38;5;124;03m\"\"\"Execute the chain.\u001b[39;00m\n\u001b[1;32m    347\u001b[0m \n\u001b[1;32m    348\u001b[0m \u001b[38;5;124;03mArgs:\u001b[39;00m\n\u001b[0;32m   (...)\u001b[0m\n\u001b[1;32m    369\u001b[0m \u001b[38;5;124;03m        `Chain.output_keys`.\u001b[39;00m\n\u001b[1;32m    370\u001b[0m \u001b[38;5;124;03m\"\"\"\u001b[39;00m\n\u001b[1;32m    371\u001b[0m config \u001b[38;5;241m=\u001b[39m {\n\u001b[1;32m    372\u001b[0m     \u001b[38;5;124m\"\u001b[39m\u001b[38;5;124mcallbacks\u001b[39m\u001b[38;5;124m\"\u001b[39m: callbacks,\n\u001b[1;32m    373\u001b[0m     \u001b[38;5;124m\"\u001b[39m\u001b[38;5;124mtags\u001b[39m\u001b[38;5;124m\"\u001b[39m: tags,\n\u001b[1;32m    374\u001b[0m     \u001b[38;5;124m\"\u001b[39m\u001b[38;5;124mmetadata\u001b[39m\u001b[38;5;124m\"\u001b[39m: metadata,\n\u001b[1;32m    375\u001b[0m     \u001b[38;5;124m\"\u001b[39m\u001b[38;5;124mrun_name\u001b[39m\u001b[38;5;124m\"\u001b[39m: run_name,\n\u001b[1;32m    376\u001b[0m }\n\u001b[0;32m--> 378\u001b[0m \u001b[38;5;28;01mreturn\u001b[39;00m \u001b[38;5;28mself\u001b[39m\u001b[38;5;241m.\u001b[39minvoke(\n\u001b[1;32m    379\u001b[0m     inputs,\n\u001b[1;32m    380\u001b[0m     cast(RunnableConfig, {k: v \u001b[38;5;28;01mfor\u001b[39;00m k, v \u001b[38;5;129;01min\u001b[39;00m config\u001b[38;5;241m.\u001b[39mitems() \u001b[38;5;28;01mif\u001b[39;00m v \u001b[38;5;129;01mis\u001b[39;00m \u001b[38;5;129;01mnot\u001b[39;00m \u001b[38;5;28;01mNone\u001b[39;00m}),\n\u001b[1;32m    381\u001b[0m     return_only_outputs\u001b[38;5;241m=\u001b[39mreturn_only_outputs,\n\u001b[1;32m    382\u001b[0m     include_run_info\u001b[38;5;241m=\u001b[39minclude_run_info,\n\u001b[1;32m    383\u001b[0m )\n",
      "File \u001b[0;32m/opt/anaconda3/lib/python3.11/site-packages/langchain/chains/base.py:163\u001b[0m, in \u001b[0;36mChain.invoke\u001b[0;34m(self, input, config, **kwargs)\u001b[0m\n\u001b[1;32m    161\u001b[0m \u001b[38;5;28;01mexcept\u001b[39;00m \u001b[38;5;167;01mBaseException\u001b[39;00m \u001b[38;5;28;01mas\u001b[39;00m e:\n\u001b[1;32m    162\u001b[0m     run_manager\u001b[38;5;241m.\u001b[39mon_chain_error(e)\n\u001b[0;32m--> 163\u001b[0m     \u001b[38;5;28;01mraise\u001b[39;00m e\n\u001b[1;32m    164\u001b[0m run_manager\u001b[38;5;241m.\u001b[39mon_chain_end(outputs)\n\u001b[1;32m    166\u001b[0m \u001b[38;5;28;01mif\u001b[39;00m include_run_info:\n",
      "File \u001b[0;32m/opt/anaconda3/lib/python3.11/site-packages/langchain/chains/base.py:151\u001b[0m, in \u001b[0;36mChain.invoke\u001b[0;34m(self, input, config, **kwargs)\u001b[0m\n\u001b[1;32m    145\u001b[0m run_manager \u001b[38;5;241m=\u001b[39m callback_manager\u001b[38;5;241m.\u001b[39mon_chain_start(\n\u001b[1;32m    146\u001b[0m     dumpd(\u001b[38;5;28mself\u001b[39m),\n\u001b[1;32m    147\u001b[0m     inputs,\n\u001b[1;32m    148\u001b[0m     name\u001b[38;5;241m=\u001b[39mrun_name,\n\u001b[1;32m    149\u001b[0m )\n\u001b[1;32m    150\u001b[0m \u001b[38;5;28;01mtry\u001b[39;00m:\n\u001b[0;32m--> 151\u001b[0m     \u001b[38;5;28mself\u001b[39m\u001b[38;5;241m.\u001b[39m_validate_inputs(inputs)\n\u001b[1;32m    152\u001b[0m     outputs \u001b[38;5;241m=\u001b[39m (\n\u001b[1;32m    153\u001b[0m         \u001b[38;5;28mself\u001b[39m\u001b[38;5;241m.\u001b[39m_call(inputs, run_manager\u001b[38;5;241m=\u001b[39mrun_manager)\n\u001b[1;32m    154\u001b[0m         \u001b[38;5;28;01mif\u001b[39;00m new_arg_supported\n\u001b[1;32m    155\u001b[0m         \u001b[38;5;28;01melse\u001b[39;00m \u001b[38;5;28mself\u001b[39m\u001b[38;5;241m.\u001b[39m_call(inputs)\n\u001b[1;32m    156\u001b[0m     )\n\u001b[1;32m    158\u001b[0m     final_outputs: Dict[\u001b[38;5;28mstr\u001b[39m, Any] \u001b[38;5;241m=\u001b[39m \u001b[38;5;28mself\u001b[39m\u001b[38;5;241m.\u001b[39mprep_outputs(\n\u001b[1;32m    159\u001b[0m         inputs, outputs, return_only_outputs\n\u001b[1;32m    160\u001b[0m     )\n",
      "File \u001b[0;32m/opt/anaconda3/lib/python3.11/site-packages/langchain/chains/base.py:279\u001b[0m, in \u001b[0;36mChain._validate_inputs\u001b[0;34m(self, inputs)\u001b[0m\n\u001b[1;32m    277\u001b[0m missing_keys \u001b[38;5;241m=\u001b[39m \u001b[38;5;28mset\u001b[39m(\u001b[38;5;28mself\u001b[39m\u001b[38;5;241m.\u001b[39minput_keys)\u001b[38;5;241m.\u001b[39mdifference(inputs)\n\u001b[1;32m    278\u001b[0m \u001b[38;5;28;01mif\u001b[39;00m missing_keys:\n\u001b[0;32m--> 279\u001b[0m     \u001b[38;5;28;01mraise\u001b[39;00m \u001b[38;5;167;01mValueError\u001b[39;00m(\u001b[38;5;124mf\u001b[39m\u001b[38;5;124m\"\u001b[39m\u001b[38;5;124mMissing some input keys: \u001b[39m\u001b[38;5;132;01m{\u001b[39;00mmissing_keys\u001b[38;5;132;01m}\u001b[39;00m\u001b[38;5;124m\"\u001b[39m)\n",
      "\u001b[0;31mValueError\u001b[0m: Missing some input keys: {' type', \"'input'\"}"
     ]
    }
   ],
   "source": [
    "output = get_response({\"input\": response})"
   ]
  },
  {
   "cell_type": "code",
   "execution_count": 56,
   "id": "514e3a8e-f137-4be6-8200-c66fe259292c",
   "metadata": {},
   "outputs": [
    {
     "name": "stdout",
     "output_type": "stream",
     "text": [
      "        genres    revenue\n",
      "0    Animation  297138014\n",
      "1    Animation    5231128\n",
      "2    Animation  631744560\n",
      "3    Animation  521311860\n",
      "4    Animation          0\n",
      "..         ...        ...\n",
      "281  Animation  355298270\n",
      "282  Animation  182379278\n",
      "283  Animation     292279\n",
      "284  Animation          0\n",
      "285  Animation  346864462\n",
      "\n",
      "[286 rows x 2 columns]\n"
     ]
    }
   ],
   "source": [
    "query = \"\"\"\n",
    "    SELECT genres, revenue\n",
    "    FROM df\n",
    "    WHERE date >= '2008-01-01' AND genres LIKE '%Animation%';\n",
    "    \"\"\"\n",
    "result = sqldf(query)\n",
    "print(result)"
   ]
  },
  {
   "cell_type": "code",
   "execution_count": null,
   "id": "8ff952b3-7615-486a-aad9-d253891e75d0",
   "metadata": {},
   "outputs": [],
   "source": []
  }
 ],
 "metadata": {
  "kernelspec": {
   "display_name": "Python 3 (ipykernel)",
   "language": "python",
   "name": "python3"
  },
  "language_info": {
   "codemirror_mode": {
    "name": "ipython",
    "version": 3
   },
   "file_extension": ".py",
   "mimetype": "text/x-python",
   "name": "python",
   "nbconvert_exporter": "python",
   "pygments_lexer": "ipython3",
   "version": "3.11.7"
  }
 },
 "nbformat": 4,
 "nbformat_minor": 5
}
